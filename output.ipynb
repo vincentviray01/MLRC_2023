{
 "cells": [
  {
   "cell_type": "code",
   "execution_count": 1,
   "id": "a660a9bf-733c-4920-bb64-5967b1dbbfe7",
   "metadata": {
    "editable": true,
    "execution": {
     "iopub.execute_input": "2023-11-12T03:22:57.974779Z",
     "iopub.status.busy": "2023-11-12T03:22:57.974625Z",
     "iopub.status.idle": "2023-11-12T03:22:58.095670Z",
     "shell.execute_reply": "2023-11-12T03:22:58.095282Z"
    },
    "papermill": {
     "duration": 0.125251,
     "end_time": "2023-11-12T03:22:58.097052",
     "exception": false,
     "start_time": "2023-11-12T03:22:57.971801",
     "status": "completed"
    },
    "slideshow": {
     "slide_type": ""
    },
    "tags": []
   },
   "outputs": [],
   "source": [
    "import papermill as pm"
   ]
  },
  {
   "cell_type": "code",
   "execution_count": 2,
   "id": "0c07d8fd-e20a-41a5-a722-4dc5ce6f8894",
   "metadata": {
    "editable": true,
    "execution": {
     "iopub.execute_input": "2023-11-12T03:22:58.104158Z",
     "iopub.status.busy": "2023-11-12T03:22:58.104022Z",
     "iopub.status.idle": "2023-11-12T03:22:58.106232Z",
     "shell.execute_reply": "2023-11-12T03:22:58.105917Z"
    },
    "papermill": {
     "duration": 0.009303,
     "end_time": "2023-11-12T03:22:58.107551",
     "exception": false,
     "start_time": "2023-11-12T03:22:58.098248",
     "status": "completed"
    },
    "slideshow": {
     "slide_type": ""
    },
    "tags": [
     "parameters"
    ]
   },
   "outputs": [],
   "source": [
    "# tag: parameters\n",
    "alpha=0\n",
    "ratio=0"
   ]
  },
  {
   "cell_type": "code",
   "execution_count": 3,
   "id": "8a7102cc",
   "metadata": {
    "execution": {
     "iopub.execute_input": "2023-11-12T03:22:58.109610Z",
     "iopub.status.busy": "2023-11-12T03:22:58.109513Z",
     "iopub.status.idle": "2023-11-12T03:22:58.111114Z",
     "shell.execute_reply": "2023-11-12T03:22:58.110858Z"
    },
    "papermill": {
     "duration": 0.003825,
     "end_time": "2023-11-12T03:22:58.112215",
     "exception": false,
     "start_time": "2023-11-12T03:22:58.108390",
     "status": "completed"
    },
    "tags": [
     "injected-parameters"
    ]
   },
   "outputs": [],
   "source": [
    "# Parameters\n",
    "alpha = 0.6\n",
    "ratio = 0.6\n"
   ]
  },
  {
   "cell_type": "code",
   "execution_count": 4,
   "id": "34e69605-c40e-4ac7-b157-8ec7e57a1da9",
   "metadata": {
    "editable": true,
    "execution": {
     "iopub.execute_input": "2023-11-12T03:22:58.114580Z",
     "iopub.status.busy": "2023-11-12T03:22:58.114359Z",
     "iopub.status.idle": "2023-11-12T03:22:58.116743Z",
     "shell.execute_reply": "2023-11-12T03:22:58.116373Z"
    },
    "papermill": {
     "duration": 0.00477,
     "end_time": "2023-11-12T03:22:58.117783",
     "exception": false,
     "start_time": "2023-11-12T03:22:58.113013",
     "status": "completed"
    },
    "slideshow": {
     "slide_type": ""
    },
    "tags": []
   },
   "outputs": [
    {
     "name": "stdout",
     "output_type": "stream",
     "text": [
      "0.6\n",
      "0.6\n"
     ]
    }
   ],
   "source": [
    "print(alpha)\n",
    "print(ratio)"
   ]
  }
 ],
 "metadata": {
  "kernelspec": {
   "display_name": "Python 3 (ipykernel)",
   "language": "python",
   "name": "python3"
  },
  "language_info": {
   "codemirror_mode": {
    "name": "ipython",
    "version": 3
   },
   "file_extension": ".py",
   "mimetype": "text/x-python",
   "name": "python",
   "nbconvert_exporter": "python",
   "pygments_lexer": "ipython3",
   "version": "3.11.5"
  },
  "papermill": {
   "default_parameters": {},
   "duration": 0.818088,
   "end_time": "2023-11-12T03:22:58.233509",
   "environment_variables": {},
   "exception": null,
   "input_path": "run_training.ipynb",
   "output_path": "output.ipynb",
   "parameters": {
    "alpha": 0.6,
    "ratio": 0.6
   },
   "start_time": "2023-11-12T03:22:57.415421",
   "version": "2.5.0"
  }
 },
 "nbformat": 4,
 "nbformat_minor": 5
}
