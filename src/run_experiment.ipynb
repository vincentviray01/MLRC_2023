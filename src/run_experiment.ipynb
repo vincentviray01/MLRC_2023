{
 "cells": [
  {
   "cell_type": "code",
   "execution_count": 1,
   "id": "bff6edc4-aae4-4da8-8df3-d28d0a70ca60",
   "metadata": {
    "editable": true,
    "slideshow": {
     "slide_type": ""
    },
    "tags": []
   },
   "outputs": [
    {
     "name": "stderr",
     "output_type": "stream",
     "text": [
      "/root/miniconda3/envs/mlrc_2023/lib/python3.11/site-packages/tqdm/auto.py:21: TqdmWarning: IProgress not found. Please update jupyter and ipywidgets. See https://ipywidgets.readthedocs.io/en/stable/user_install.html\n",
      "  from .autonotebook import tqdm as notebook_tqdm\n"
     ]
    }
   ],
   "source": [
    "import papermill as pm\n",
    "import mlflow\n",
    "from utils import md5_dir"
   ]
  },
  {
   "cell_type": "code",
   "execution_count": 2,
   "id": "13c027b2-2761-4a20-9427-0b2f3d4117b2",
   "metadata": {
    "editable": true,
    "slideshow": {
     "slide_type": ""
    },
    "tags": [
     "parameters"
    ]
   },
   "outputs": [],
   "source": [
    "train_data_path = \"../data/ImageNet/ILSVRC/Data/CLS-LOC/train/\"\n",
    "test_data_path = \"../data/ImageNet/ILSVRC/Data/CLS-LOC/val/\"\n",
    "\n",
    "train_data_labels_path = \"../data/ImageNet/LOC_train_solution.csv\"\n",
    "test_data_labels_path = \"../data/ImageNet/LOC_val_solution.csv\"\n",
    "\n",
    "label_mapping_path = \"../data/ImageNet/LOC_synset_mapping.txt\""
   ]
  },
  {
   "cell_type": "code",
   "execution_count": 3,
   "id": "5f44f594-f442-469f-97a3-36bc14999c49",
   "metadata": {
    "editable": true,
    "slideshow": {
     "slide_type": ""
    },
    "tags": []
   },
   "outputs": [],
   "source": [
    "### Record Environment for Reproducibility"
   ]
  },
  {
   "cell_type": "code",
   "execution_count": 4,
   "id": "358c9e5a-3665-4599-a25b-8c248adf6c01",
   "metadata": {
    "editable": true,
    "slideshow": {
     "slide_type": ""
    },
    "tags": []
   },
   "outputs": [],
   "source": [
    "from watermark import watermark\n",
    "with open(\"environment.txt\", \"w\") as f:\n",
    "    f.write(watermark())"
   ]
  },
  {
   "cell_type": "code",
   "execution_count": 5,
   "id": "821af629-796b-4252-ad8b-48cb06667519",
   "metadata": {},
   "outputs": [],
   "source": [
    "# train_set_hash = md5_dir(train_data_path)\n",
    "# test_set_hash = md5_dir(test_data_path)\n",
    "\n",
    "\n",
    "# these are precomputed, but when actually running experiments, need to run above\n",
    "train_set_hash = '9fce42f1e8e93050a299b3c7787c61f6'\n",
    "\n",
    "test_set_hash = 'b1f62b4451f953d0deb23695b095e7f0'"
   ]
  },
  {
   "cell_type": "code",
   "execution_count": 6,
   "id": "277317f4-1a34-41af-b4ea-fe5a903fb5e2",
   "metadata": {},
   "outputs": [],
   "source": [
    "def log_experiment_setup(run_id):\n",
    "    # with mlflow.start_run(run_id=run_id) as run:\n",
    "    environment_path = \"environment.txt\"\n",
    "    mlflow.log_artifact(environment_path)\n",
    "    mlflow.log_param(\"test_set_hash\", test_set_hash)\n",
    "    mlflow.log_param(\"train_set_hash\", train_set_hash)\n"
   ]
  },
  {
   "cell_type": "code",
   "execution_count": 7,
   "id": "46cec5e3-c935-4fb1-b56d-b1468a45e486",
   "metadata": {},
   "outputs": [],
   "source": [
    "# run_preprocessing = True"
   ]
  },
  {
   "cell_type": "markdown",
   "id": "48918552-c849-4f57-82ff-9a5318972854",
   "metadata": {
    "editable": true,
    "slideshow": {
     "slide_type": ""
    },
    "tags": []
   },
   "source": [
    "### Run Experiment Pipeline"
   ]
  },
  {
   "cell_type": "code",
   "execution_count": 8,
   "id": "0c07d8fd-e20a-41a5-a722-4dc5ce6f8894",
   "metadata": {
    "editable": true,
    "slideshow": {
     "slide_type": ""
    },
    "tags": []
   },
   "outputs": [
    {
     "name": "stderr",
     "output_type": "stream",
     "text": [
      "2023/12/13 03:39:00 WARNING mlflow.utils.git_utils: Failed to import Git (the Git executable is probably not on your PATH), so Git SHA is not available. Error: Failed to initialize: Bad git executable.\n",
      "The git executable must be specified in one of the following ways:\n",
      "    - be included in your $PATH\n",
      "    - be set via $GIT_PYTHON_GIT_EXECUTABLE\n",
      "    - explicitly set via git.refresh()\n",
      "\n",
      "All git commands will error until this is rectified.\n",
      "\n",
      "This initial warning can be silenced or aggravated in the future by setting the\n",
      "$GIT_PYTHON_REFRESH environment variable. Use one of the following values:\n",
      "    - quiet|q|silence|s|none|n|0: for no warning or exception\n",
      "    - warn|w|warning|1: for a printed warning\n",
      "    - error|e|raise|r|2: for a raised exception\n",
      "\n",
      "Example:\n",
      "    export GIT_PYTHON_REFRESH=quiet\n",
      "\n"
     ]
    },
    {
     "name": "stdout",
     "output_type": "stream",
     "text": [
      "Experiment Run Id:  9b0844e061f440b69f900308457aef36\n"
     ]
    },
    {
     "name": "stderr",
     "output_type": "stream",
     "text": [
      "Executing:   0%|                                                                                              | 0/11 [00:00<?, ?cell/s]0.00s - Debugger warning: It seems that frozen modules are being used, which may\n",
      "0.00s - make the debugger miss breakpoints. Please pass -Xfrozen_modules=off\n",
      "0.00s - to python to disable frozen modules.\n",
      "0.00s - Note: Debugging will proceed. Set PYDEVD_DISABLE_FILE_VALIDATION=1 to disable this validation.\n",
      "Executing: 100%|█████████████████████████████████████████████████████████████████████████████████████| 11/11 [01:47<00:00,  9.79s/cell]\n",
      "Executing:   0%|                                                                                               | 0/9 [00:00<?, ?cell/s]0.00s - Debugger warning: It seems that frozen modules are being used, which may\n",
      "0.00s - make the debugger miss breakpoints. Please pass -Xfrozen_modules=off\n",
      "0.00s - to python to disable frozen modules.\n",
      "0.00s - Note: Debugging will proceed. Set PYDEVD_DISABLE_FILE_VALIDATION=1 to disable this validation.\n",
      "Executing: 100%|███████████████████████████████████████████████████████████████████████████████████████| 9/9 [04:52<00:00, 32.55s/cell]\n"
     ]
    }
   ],
   "source": [
    "with mlflow.start_run() as run:\n",
    "    run_id = run.info.run_id\n",
    "    print(\"Experiment Run Id: \", run_id)\n",
    "    \n",
    "\n",
    "    log_experiment_setup(run_id) \n",
    "\n",
    "    # if run_preprocessing = True:\n",
    "    #     # Call Preprocessing Notebook\n",
    "    #     preprocessing_notebook = \"run_preprocessing.ipynb\"\n",
    "    #     preprocessing_output_notebook = \"output/run_preprocessing_output.ipynb\"\n",
    "    #     parameters = {}\n",
    "    #     parameters[\"run_id\"] = run_id\n",
    "    #     parameters[\"train_data\"] = train_data\n",
    "    #     parameters[\"test_data\"] = test_data\n",
    "    #     parameters[\"preprocess_pipeline\"] = preprocess\n",
    "    #     pm.execute_notebook(preprocessing_notebook, preprocessing_output_notebook, parameters = parameters)\n",
    "        \n",
    "    # Call Training Notebook\n",
    "    training_notebook = \"run_training.ipynb\"\n",
    "    training_output_notebook = \"output/run_training_output.ipynb\"\n",
    "    parameters = {}\n",
    "    parameters[\"run_id\"] = run_id\n",
    "    parameters[\"train_data_path\"] = train_data_path\n",
    "    parameters[\"train_data_labels_path\"] = train_data_labels_path\n",
    "    parameters[\"label_mapping_path\"] = label_mapping_path\n",
    "    \n",
    "    pm.execute_notebook(training_notebook, training_output_notebook, parameters = parameters)\n",
    "    \n",
    "    # Call Evaluation Notebook\n",
    "    evaluation_notebook = \"run_evaluation.ipynb\"\n",
    "    evaluation_output_notebook = \"output/run_evaluation_output.ipynb\"\n",
    "    parameters = {}\n",
    "    parameters[\"run_id\"] = run_id\n",
    "    parameters[\"test_data_path\"] = test_data_path\n",
    "    parameters[\"test_data_labels_path\"] = test_data_labels_path\n",
    "    parameters[\"label_mapping_path\"] = label_mapping_path\n",
    "    pm.execute_notebook(evaluation_notebook, evaluation_output_notebook, parameters = parameters)"
   ]
  },
  {
   "cell_type": "code",
   "execution_count": null,
   "id": "dbd221fb-e631-4189-aa11-2e95f8a117c5",
   "metadata": {},
   "outputs": [],
   "source": []
  }
 ],
 "metadata": {
  "kernelspec": {
   "display_name": "Python 3 (ipykernel)",
   "language": "python",
   "name": "python3"
  },
  "language_info": {
   "codemirror_mode": {
    "name": "ipython",
    "version": 3
   },
   "file_extension": ".py",
   "mimetype": "text/x-python",
   "name": "python",
   "nbconvert_exporter": "python",
   "pygments_lexer": "ipython3",
   "version": "3.11.5"
  }
 },
 "nbformat": 4,
 "nbformat_minor": 5
}
