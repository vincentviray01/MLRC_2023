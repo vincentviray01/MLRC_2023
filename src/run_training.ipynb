{
 "cells": [
  {
   "cell_type": "code",
   "execution_count": 1,
   "id": "5489797f-2019-4e84-8a22-1561dbbc6160",
   "metadata": {
    "editable": true,
    "slideshow": {
     "slide_type": ""
    },
    "tags": []
   },
   "outputs": [],
   "source": [
    "# prevent random files being included in dataset\n",
    "!rm -rf `find -type d -name .ipynb_checkpoints`"
   ]
  },
  {
   "cell_type": "code",
   "execution_count": 2,
   "id": "a660a9bf-733c-4920-bb64-5967b1dbbfe7",
   "metadata": {
    "editable": true,
    "slideshow": {
     "slide_type": ""
    },
    "tags": []
   },
   "outputs": [
    {
     "name": "stderr",
     "output_type": "stream",
     "text": [
      "/root/miniconda3/envs/mlrc_2023/lib/python3.11/site-packages/tqdm/auto.py:21: TqdmWarning: IProgress not found. Please update jupyter and ipywidgets. See https://ipywidgets.readthedocs.io/en/stable/user_install.html\n",
      "  from .autonotebook import tqdm as notebook_tqdm\n",
      "/root/miniconda3/envs/mlrc_2023/lib/python3.11/site-packages/torchvision/io/image.py:13: UserWarning: Failed to load image Python extension: '/root/miniconda3/envs/mlrc_2023/lib/python3.11/site-packages/torchvision/image.so: undefined symbol: _ZNK3c107SymBool10guard_boolEPKcl'If you don't plan on using image functionality from `torchvision.io`, you can ignore this warning. Otherwise, there might be something wrong with your environment. Did you have `libjpeg` or `libpng` installed before building `torchvision` from source?\n",
      "  warn(\n"
     ]
    }
   ],
   "source": [
    "import papermill as pm\n",
    "import mlflow\n",
    "import torch\n",
    "from utils import md5_dir, set_seed\n",
    "from torch.utils.data import DataLoader\n",
    "import tqdm\n",
    "\n",
    "from loss_functions import kd_loss\n",
    "from datasets import TrainImageNetDataset\n",
    "\n",
    "import torch\n",
    "import torch.nn.functional as F\n",
    "\n",
    "# if using pretrained model\n",
    "from torchvision.models import ResNet50_Weights"
   ]
  },
  {
   "cell_type": "code",
   "execution_count": 3,
   "id": "119e34ef-c30b-4e73-a51d-3a4c2dd23e65",
   "metadata": {
    "editable": true,
    "slideshow": {
     "slide_type": ""
    },
    "tags": []
   },
   "outputs": [],
   "source": [
    "set_seed(42)\n",
    "torch.cuda.empty_cache()"
   ]
  },
  {
   "cell_type": "code",
   "execution_count": 4,
   "id": "4070927e-d82c-44d9-8841-0bd757d1477d",
   "metadata": {
    "editable": true,
    "slideshow": {
     "slide_type": ""
    },
    "tags": [
     "parameters"
    ]
   },
   "outputs": [],
   "source": [
    "# Default Parameters\n",
    "run_id = \"5363b9a6f6954354b7bb68d535b5ea88\"\n",
    "train_data_path = \"../data/ImageNet/ILSVRC/Data/CLS-LOC/train/\"\n",
    "# test_data_path = \"data/ImageNet/ILSVRC/Data/CLS-LOC/val/\"\n",
    "\n",
    "train_data_labels_path = \"../data/ImageNet/LOC_train_solution.csv\"\n",
    "# test_data_labels_path = \"data/ImageNet/LOC_val_solution.csv\"\n",
    "\n",
    "label_mapping_path = \"../data/ImageNet/LOC_synset_mapping.txt\"\n",
    "\n",
    "resnet50_weights = ResNet50_Weights.DEFAULT\n",
    "\n",
    "preprocess = resnet50_weights.transforms()\n",
    "\n",
    "device = \"cuda\" if torch.cuda.is_available() else \"cpu\""
   ]
  },
  {
   "cell_type": "code",
   "execution_count": 5,
   "id": "02e566e6-0761-4617-81fb-5d2e46471516",
   "metadata": {},
   "outputs": [
    {
     "name": "stdout",
     "output_type": "stream",
     "text": [
      "../data/ImageNet/LOC_synset_mapping.txt\n"
     ]
    }
   ],
   "source": [
    "train_dataset = TrainImageNetDataset(train_data_path, train_data_labels_path, label_mapping_path, preprocess)\n",
    "\n",
    "# test_dataset = TestImageNetDataset(test_data_path, test_data_labels_path, label_mapping_path, preprocess)\n",
    "\n",
    "train_dataloader = DataLoader(train_dataset, batch_size=80, shuffle=True)\n",
    "# test_dataloader = DataLoader(test_dataset, batch_size=80, shuffle=False)"
   ]
  },
  {
   "cell_type": "code",
   "execution_count": 6,
   "id": "2acf8f8a-046e-40f6-a3e9-e37523d53688",
   "metadata": {},
   "outputs": [],
   "source": [
    "# if using pretrained model\n",
    "from torchvision.models import resnet50, ResNet50_Weights, resnet18\n",
    "\n",
    "resnet50_pretrained_weights = ResNet50_Weights.DEFAULT\n",
    "\n",
    "teacher = resnet50(weights=resnet50_pretrained_weights)\n",
    "\n",
    "student = resnet18(weights=None)\n",
    "independent_student = resnet18(weights=None)"
   ]
  },
  {
   "cell_type": "code",
   "execution_count": 7,
   "id": "4c4a8aaa-36c7-44da-97bc-0249d381983a",
   "metadata": {},
   "outputs": [
    {
     "ename": "TypeError",
     "evalue": "'module' object is not callable",
     "output_type": "error",
     "traceback": [
      "\u001b[0;31m---------------------------------------------------------------------------\u001b[0m",
      "\u001b[0;31mTypeError\u001b[0m                                 Traceback (most recent call last)",
      "Cell \u001b[0;32mIn[7], line 72\u001b[0m\n\u001b[1;32m     70\u001b[0m optimizer \u001b[38;5;241m=\u001b[39m torch\u001b[38;5;241m.\u001b[39moptim\u001b[38;5;241m.\u001b[39mAdam(student\u001b[38;5;241m.\u001b[39mparameters(), lr \u001b[38;5;241m=\u001b[39m \u001b[38;5;241m0.0001\u001b[39m)\n\u001b[1;32m     71\u001b[0m epochs \u001b[38;5;241m=\u001b[39m \u001b[38;5;241m6\u001b[39m\n\u001b[0;32m---> 72\u001b[0m \u001b[43mtrain_student\u001b[49m\u001b[43m(\u001b[49m\u001b[43mstudent\u001b[49m\u001b[43m,\u001b[49m\u001b[43m \u001b[49m\u001b[43mteacher\u001b[49m\u001b[43m,\u001b[49m\u001b[43m \u001b[49m\u001b[43mtrain_dataloader\u001b[49m\u001b[43m,\u001b[49m\u001b[43m \u001b[49m\u001b[43mkd_loss\u001b[49m\u001b[43m,\u001b[49m\u001b[43m \u001b[49m\u001b[43moptimizer\u001b[49m\u001b[43m,\u001b[49m\u001b[43m \u001b[49m\u001b[43mepochs\u001b[49m\u001b[43m,\u001b[49m\u001b[43m \u001b[49m\u001b[43mdevice\u001b[49m\u001b[43m)\u001b[49m\n",
      "Cell \u001b[0;32mIn[7], line 22\u001b[0m, in \u001b[0;36mtrain_student\u001b[0;34m(student, teacher, train_dataloader, criterion, optimizer, epochs, device)\u001b[0m\n\u001b[1;32m     19\u001b[0m loss_cntr \u001b[38;5;241m=\u001b[39m \u001b[38;5;241m0\u001b[39m\n\u001b[1;32m     20\u001b[0m previous_loss \u001b[38;5;241m=\u001b[39m \u001b[38;5;241m0.0\u001b[39m\n\u001b[0;32m---> 22\u001b[0m \u001b[38;5;28;01mfor\u001b[39;00m inputs, labels \u001b[38;5;129;01min\u001b[39;00m \u001b[43mtqdm\u001b[49m\u001b[43m(\u001b[49m\u001b[43mtrain_dataloader\u001b[49m\u001b[43m,\u001b[49m\u001b[43m \u001b[49m\u001b[43mposition\u001b[49m\u001b[43m \u001b[49m\u001b[38;5;241;43m=\u001b[39;49m\u001b[43m \u001b[49m\u001b[38;5;241;43m0\u001b[39;49m\u001b[43m,\u001b[49m\u001b[43m \u001b[49m\u001b[43mleave\u001b[49m\u001b[43m \u001b[49m\u001b[38;5;241;43m=\u001b[39;49m\u001b[43m \u001b[49m\u001b[38;5;28;43;01mTrue\u001b[39;49;00m\u001b[43m)\u001b[49m:\n\u001b[1;32m     23\u001b[0m     inputs, labels \u001b[38;5;241m=\u001b[39m inputs\u001b[38;5;241m.\u001b[39mto(device), labels\u001b[38;5;241m.\u001b[39mto(device)\n\u001b[1;32m     24\u001b[0m     labels \u001b[38;5;241m=\u001b[39m F\u001b[38;5;241m.\u001b[39mone_hot(labels, num_classes\u001b[38;5;241m=\u001b[39m\u001b[38;5;241m1000\u001b[39m)\u001b[38;5;241m.\u001b[39mfloat()\n",
      "\u001b[0;31mTypeError\u001b[0m: 'module' object is not callable"
     ]
    }
   ],
   "source": [
    "def train_student(student, teacher, train_dataloader, criterion, optimizer, epochs, device):\n",
    "    \"\"\"\n",
    "    - student: The smaller, untrained model that uses the teacher's output as an additional label\n",
    "    - teacher: The pretrained model used to help the student model learn\n",
    "    - train_dataloader: Dataloader for training data\n",
    "    - criterion: The loss function\n",
    "    - optimizer: The optimization algorithm\n",
    "    - epochs: Number of training epochs\n",
    "    - device: Device to run training\n",
    "    \"\"\"\n",
    "    teacher.eval()\n",
    "    teacher.to(device)\n",
    "    student.train()\n",
    "    student.to(device)\n",
    "    epoch_print = 4000\n",
    "    \n",
    "    for epoch in range(epochs):\n",
    "        running_loss = 0.0\n",
    "        loss_cntr = 0\n",
    "        previous_loss = 0.0\n",
    "\n",
    "        for inputs, labels in tqdm(train_dataloader, position = 0, leave = True):\n",
    "            inputs, labels = inputs.to(device), labels.to(device)\n",
    "            labels = F.one_hot(labels, num_classes=1000).float()\n",
    "\n",
    "            # Zero the gradients \n",
    "            optimizer.zero_grad()\n",
    "\n",
    "            teacher_predictions = teacher(inputs)\n",
    "            student_predictions = student(inputs)\n",
    "\n",
    "            loss = criterion(student_predictions, labels, teacher_predictions, 0.5, 0.5)\n",
    "\n",
    "            loss.backward()\n",
    "\n",
    "            optimizer.step()\n",
    "\n",
    "            previous_loss += loss\n",
    "            if loss_cntr > 0 and loss_cntr % epoch_print == 0:\n",
    "                print(\"Current loss:\", loss)\n",
    "                print(\"Running loss:\", running_loss)\n",
    "                print(\"Loss delta:\", previous_loss - loss)\n",
    "                print(\"Avg loss per epoch\", previous_loss/epoch_print)\n",
    "                previous_loss = 0.0\n",
    "            loss_cntr += 1\n",
    "            \n",
    "            running_loss += loss.item()\n",
    "\n",
    "        average_loss = running_loss / len(train_dataloader)\n",
    "        print(f'Epoch [{epoch+1}/{epochs}], Loss: {average_loss:.4f}')\n",
    "\n",
    "        # save training loss in mlflow\n",
    "        with mlflow.start_run(run_id=run_id) as run:\n",
    "            mlflow.log_metric(\"student_training_loss\", average_loss)\n",
    "\n",
    "    with mlflow.start_run(run_id=run_id) as run:\n",
    "        mlflow.pytorch.log_model(\n",
    "            pytorch_model=teacher.to(\"cpu\"),\n",
    "            artifact_path=\"teacher\",\n",
    "        )\n",
    "\n",
    "        mlflow.pytorch.log_model(\n",
    "            pytorch_model=student.to(\"cpu\"),\n",
    "            artifact_path=\"student\"\n",
    "        )\n",
    "        \n",
    "        \n",
    "\n",
    "\n",
    "optimizer = torch.optim.Adam(student.parameters(), lr = 0.0001)\n",
    "epochs = 6\n",
    "train_student(student, teacher, train_dataloader, kd_loss, optimizer, epochs, device)"
   ]
  },
  {
   "cell_type": "code",
   "execution_count": null,
   "id": "2188d05a-f37c-4cf3-a3cb-749d0758355d",
   "metadata": {},
   "outputs": [],
   "source": [
    "def train_independent_student(independent_student, train_dataloader, criterion, optimizer, epochs, device):\n",
    "    \"\"\"\n",
    "    - teacher: The pretrained model used to help the student model learn\n",
    "    - student: The smaller, untrained model that uses the teacher's output as an additional label\n",
    "    - criterion: The loss function\n",
    "    - optimizer: The optimization algorithm\n",
    "    - epochs: Number of training epochs\n",
    "    - device: Device to run training\n",
    "    \"\"\"\n",
    "    independent_student.train()\n",
    "    independent_student.to(device)\n",
    "    \n",
    "    for epoch in tqdm.tqdm(range(epochs)):\n",
    "        running_loss = 0.0\n",
    "\n",
    "        for inputs, labels in tqdm.tqdm(train_dataloader):\n",
    "            inputs, labels = inputs.to(device), labels.to(device)\n",
    "            labels = F.one_hot(labels, num_classes=1000).float()\n",
    "\n",
    "            # Zero the gradients \n",
    "            optimizer.zero_grad()\n",
    "\n",
    "            independent_student_predictions = independent_student(inputs)\n",
    "\n",
    "            loss = criterion(independent_student_predictions, labels)\n",
    "\n",
    "            loss.backward()\n",
    "\n",
    "            optimizer.step()\n",
    "\n",
    "            running_loss += loss.item()\n",
    "            break\n",
    "\n",
    "        average_loss = running_loss / len(train_dataloader)\n",
    "        print(f'Epoch [{epoch+1}/{epochs}], Loss: {average_loss:.4f}')\n",
    "\n",
    "\n",
    "        # save training loss in mlflow\n",
    "        with mlflow.start_run(run_id=run_id) as run:\n",
    "            mlflow.log_metric(\"independent_student_training_loss\", average_loss)\n",
    "\n",
    "    with mlflow.start_run(run_id=run_id) as run:\n",
    "        mlflow.pytorch.log_model(\n",
    "            pytorch_model=independent_student.to(\"cpu\"),\n",
    "            artifact_path=\"independent_student\"\n",
    "        )\n",
    "\n",
    "optimizer = torch.optim.Adam(independent_student.parameters(), lr = 0.0001)\n",
    "epochs = 1\n",
    "criterion = torch.nn.CrossEntropyLoss()\n",
    "train_independent_student(independent_student, train_dataloader, criterion, optimizer, epochs, device)"
   ]
  },
  {
   "cell_type": "code",
   "execution_count": null,
   "id": "124e1e1a-279b-4266-bfd1-8be9dca52d9e",
   "metadata": {},
   "outputs": [],
   "source": []
  }
 ],
 "metadata": {
  "kernelspec": {
   "display_name": "Python 3 (ipykernel)",
   "language": "python",
   "name": "python3"
  },
  "language_info": {
   "codemirror_mode": {
    "name": "ipython",
    "version": 3
   },
   "file_extension": ".py",
   "mimetype": "text/x-python",
   "name": "python",
   "nbconvert_exporter": "python",
   "pygments_lexer": "ipython3",
   "version": "3.11.5"
  }
 },
 "nbformat": 4,
 "nbformat_minor": 5
}
