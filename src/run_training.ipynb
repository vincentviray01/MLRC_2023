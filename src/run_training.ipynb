{
 "cells": [
  {
   "cell_type": "code",
   "execution_count": 17,
   "id": "5489797f-2019-4e84-8a22-1561dbbc6160",
   "metadata": {
    "editable": true,
    "slideshow": {
     "slide_type": ""
    },
    "tags": []
   },
   "outputs": [],
   "source": [
    "# prevent random files being included in dataset\n",
    "!rm -rf `find -type d -name .ipynb_checkpoints`"
   ]
  },
  {
   "cell_type": "code",
   "execution_count": 18,
   "id": "a660a9bf-733c-4920-bb64-5967b1dbbfe7",
   "metadata": {
    "editable": true,
    "slideshow": {
     "slide_type": ""
    },
    "tags": []
   },
   "outputs": [],
   "source": [
    "import papermill as pm\n",
    "import mlflow\n",
    "import torch\n",
    "from utils import md5_dir, set_seed\n",
    "from torch.utils.data import DataLoader\n",
    "import tqdm.auto as tqdm\n",
    "\n",
    "from loss_functions import kd_loss\n",
    "from datasets import TrainImageNetDataset\n",
    "\n",
    "import torch\n",
    "import torch.nn.functional as F\n",
    "\n",
    "# if using pretrained model\n",
    "from torchvision.models import ResNet50_Weights"
   ]
  },
  {
   "cell_type": "code",
   "execution_count": 19,
   "id": "119e34ef-c30b-4e73-a51d-3a4c2dd23e65",
   "metadata": {
    "editable": true,
    "slideshow": {
     "slide_type": ""
    },
    "tags": []
   },
   "outputs": [],
   "source": [
    "set_seed(42)\n",
    "torch.cuda.empty_cache()"
   ]
  },
  {
   "cell_type": "code",
   "execution_count": 20,
   "id": "4070927e-d82c-44d9-8841-0bd757d1477d",
   "metadata": {
    "editable": true,
    "slideshow": {
     "slide_type": ""
    },
    "tags": [
     "parameters"
    ]
   },
   "outputs": [],
   "source": [
    "# Default Parameters\n",
    "run_id = \"5363b9a6f6954354b7bb68d535b5ea88\"\n",
    "train_data_path = \"../data/ImageNet/ILSVRC/Data/CLS-LOC/train/\"\n",
    "# test_data_path = \"data/ImageNet/ILSVRC/Data/CLS-LOC/val/\"\n",
    "\n",
    "train_data_labels_path = \"../data/ImageNet/LOC_train_solution.csv\"\n",
    "# test_data_labels_path = \"data/ImageNet/LOC_val_solution.csv\"\n",
    "\n",
    "label_mapping_path = \"../data/ImageNet/LOC_synset_mapping.txt\"\n",
    "\n",
    "resnet50_weights = ResNet50_Weights.DEFAULT\n",
    "\n",
    "preprocess = resnet50_weights.transforms()\n",
    "\n",
    "device = \"cuda\" if torch.cuda.is_available() else \"cpu\""
   ]
  },
  {
   "cell_type": "code",
   "execution_count": 21,
   "id": "02e566e6-0761-4617-81fb-5d2e46471516",
   "metadata": {},
   "outputs": [
    {
     "name": "stdout",
     "output_type": "stream",
     "text": [
      "/home/vincent/projects/MLRC_2023/data/ImageNet/LOC_synset_mapping.txt\n"
     ]
    }
   ],
   "source": [
    "train_dataset = TrainImageNetDataset(train_data_path, train_data_labels_path, label_mapping_path, preprocess)\n",
    "\n",
    "# test_dataset = TestImageNetDataset(test_data_path, test_data_labels_path, label_mapping_path, preprocess)\n",
    "\n",
    "train_dataloader = DataLoader(train_dataset, batch_size=80, shuffle=True)\n",
    "# test_dataloader = DataLoader(test_dataset, batch_size=80, shuffle=False)"
   ]
  },
  {
   "cell_type": "code",
   "execution_count": 22,
   "id": "2acf8f8a-046e-40f6-a3e9-e37523d53688",
   "metadata": {},
   "outputs": [],
   "source": [
    "# if using pretrained model\n",
    "from torchvision.models import resnet50, ResNet50_Weights, resnet18\n",
    "\n",
    "resnet50_pretrained_weights = ResNet50_Weights.DEFAULT\n",
    "\n",
    "teacher = resnet50(weights=resnet50_pretrained_weights)\n",
    "\n",
    "student = resnet18(weights=None)\n",
    "independent_student = resnet18(weights=None)"
   ]
  },
  {
   "cell_type": "code",
   "execution_count": 23,
   "id": "4c4a8aaa-36c7-44da-97bc-0249d381983a",
   "metadata": {},
   "outputs": [
    {
     "name": "stderr",
     "output_type": "stream",
     "text": [
      "  0%|                                                     | 0/1 [00:00<?, ?it/s]\n",
      "  0%|                                                 | 0/16015 [00:00<?, ?it/s]\u001b[A\n",
      "100%|█████████████████████████████████████████████| 1/1 [00:00<00:00,  1.36it/s]\n"
     ]
    },
    {
     "name": "stdout",
     "output_type": "stream",
     "text": [
      "Epoch [1/1], Loss: 0.0003\n"
     ]
    }
   ],
   "source": [
    "def train_student(student, teacher, train_dataloader, criterion, optimizer, epochs, device):\n",
    "    \"\"\"\n",
    "    - student: The smaller, untrained model that uses the teacher's output as an additional label\n",
    "    - teacher: The pretrained model used to help the student model learn\n",
    "    - train_dataloader: Dataloader for training data\n",
    "    - criterion: The loss function\n",
    "    - optimizer: The optimization algorithm\n",
    "    - epochs: Number of training epochs\n",
    "    - device: Device to run training\n",
    "    \"\"\"\n",
    "    teacher.eval()\n",
    "    teacher.to(device)\n",
    "    student.train()\n",
    "    student.to(device)\n",
    "    \n",
    "    for epoch in tqdm(range(epochs), position = 0, leave = True):\n",
    "        running_loss = 0.0\n",
    "\n",
    "        for inputs, labels in tqdm(train_dataloader, position = 0, leave = True):\n",
    "            inputs, labels = inputs.to(device), labels.to(device)\n",
    "            labels = F.one_hot(labels, num_classes=1000).float()\n",
    "\n",
    "            # Zero the gradients \n",
    "            optimizer.zero_grad()\n",
    "\n",
    "            teacher_predictions = teacher(inputs)\n",
    "            student_predictions = student(inputs)\n",
    "\n",
    "            loss = criterion(student_predictions, labels, teacher_predictions, 0.5, 0.5)\n",
    "\n",
    "            loss.backward()\n",
    "\n",
    "            optimizer.step()\n",
    "\n",
    "            running_loss += loss.item()\n",
    "\n",
    "        average_loss = running_loss / len(train_dataloader)\n",
    "        print(f'Epoch [{epoch+1}/{epochs}], Loss: {average_loss:.4f}')\n",
    "\n",
    "        # save training loss in mlflow\n",
    "        with mlflow.start_run(run_id=run_id) as run:\n",
    "            mlflow.log_metric(\"student_training_loss\", average_loss)\n",
    "\n",
    "    with mlflow.start_run(run_id=run_id) as run:\n",
    "        mlflow.pytorch.log_model(\n",
    "            pytorch_model=teacher.to(\"cpu\"),\n",
    "            artifact_path=\"teacher\",\n",
    "        )\n",
    "\n",
    "        mlflow.pytorch.log_model(\n",
    "            pytorch_model=student.to(\"cpu\"),\n",
    "            artifact_path=\"student\"\n",
    "        )\n",
    "        \n",
    "        \n",
    "\n",
    "\n",
    "optimizer = torch.optim.Adam(student.parameters(), lr = 0.0001)\n",
    "epochs = 1\n",
    "train_student(student, teacher, train_dataloader, kd_loss, optimizer, epochs, device)"
   ]
  },
  {
   "cell_type": "code",
   "execution_count": 24,
   "id": "2188d05a-f37c-4cf3-a3cb-749d0758355d",
   "metadata": {},
   "outputs": [
    {
     "name": "stderr",
     "output_type": "stream",
     "text": [
      "  0%|                                                     | 0/1 [00:00<?, ?it/s]\n",
      "  0%|                                                 | 0/16015 [00:00<?, ?it/s]\u001b[A\n",
      "100%|█████████████████████████████████████████████| 1/1 [00:00<00:00,  2.36it/s]\n"
     ]
    },
    {
     "name": "stdout",
     "output_type": "stream",
     "text": [
      "Epoch [1/1], Loss: 0.0004\n"
     ]
    }
   ],
   "source": [
    "def train_independent_student(independent_student, train_dataloader, criterion, optimizer, epochs, device):\n",
    "    \"\"\"\n",
    "    - teacher: The pretrained model used to help the student model learn\n",
    "    - student: The smaller, untrained model that uses the teacher's output as an additional label\n",
    "    - criterion: The loss function\n",
    "    - optimizer: The optimization algorithm\n",
    "    - epochs: Number of training epochs\n",
    "    - device: Device to run training\n",
    "    \"\"\"\n",
    "    independent_student.train()\n",
    "    independent_student.to(device)\n",
    "    \n",
    "    for epoch in tqdm.tqdm(range(epochs)):\n",
    "        running_loss = 0.0\n",
    "\n",
    "        for inputs, labels in tqdm.tqdm(train_dataloader):\n",
    "            inputs, labels = inputs.to(device), labels.to(device)\n",
    "            labels = F.one_hot(labels, num_classes=1000).float()\n",
    "\n",
    "            # Zero the gradients \n",
    "            optimizer.zero_grad()\n",
    "\n",
    "            independent_student_predictions = independent_student(inputs)\n",
    "\n",
    "            loss = criterion(independent_student_predictions, labels)\n",
    "\n",
    "            loss.backward()\n",
    "\n",
    "            optimizer.step()\n",
    "\n",
    "            running_loss += loss.item()\n",
    "            break\n",
    "\n",
    "        average_loss = running_loss / len(train_dataloader)\n",
    "        print(f'Epoch [{epoch+1}/{epochs}], Loss: {average_loss:.4f}')\n",
    "\n",
    "\n",
    "        # save training loss in mlflow\n",
    "        with mlflow.start_run(run_id=run_id) as run:\n",
    "            mlflow.log_metric(\"independent_student_training_loss\", average_loss)\n",
    "\n",
    "    with mlflow.start_run(run_id=run_id) as run:\n",
    "        mlflow.pytorch.log_model(\n",
    "            pytorch_model=independent_student.to(\"cpu\"),\n",
    "            artifact_path=\"independent_student\"\n",
    "        )\n",
    "\n",
    "optimizer = torch.optim.Adam(independent_student.parameters(), lr = 0.0001)\n",
    "epochs = 1\n",
    "criterion = torch.nn.CrossEntropyLoss()\n",
    "train_independent_student(independent_student, train_dataloader, criterion, optimizer, epochs, device)"
   ]
  },
  {
   "cell_type": "code",
   "execution_count": null,
   "id": "124e1e1a-279b-4266-bfd1-8be9dca52d9e",
   "metadata": {},
   "outputs": [],
   "source": []
  }
 ],
 "metadata": {
  "kernelspec": {
   "display_name": "Python 3 (ipykernel)",
   "language": "python",
   "name": "python3"
  },
  "language_info": {
   "codemirror_mode": {
    "name": "ipython",
    "version": 3
   },
   "file_extension": ".py",
   "mimetype": "text/x-python",
   "name": "python",
   "nbconvert_exporter": "python",
   "pygments_lexer": "ipython3",
   "version": "3.11.5"
  }
 },
 "nbformat": 4,
 "nbformat_minor": 5
}
