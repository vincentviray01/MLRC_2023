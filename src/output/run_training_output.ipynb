{
 "cells": [
  {
   "cell_type": "code",
   "execution_count": 1,
   "id": "5489797f-2019-4e84-8a22-1561dbbc6160",
   "metadata": {
    "editable": true,
    "execution": {
     "iopub.execute_input": "2023-12-05T13:41:16.564039Z",
     "iopub.status.busy": "2023-12-05T13:41:16.563806Z",
     "iopub.status.idle": "2023-12-05T13:41:17.695527Z",
     "shell.execute_reply": "2023-12-05T13:41:17.694908Z"
    },
    "papermill": {
     "duration": 1.135449,
     "end_time": "2023-12-05T13:41:17.696845",
     "exception": false,
     "start_time": "2023-12-05T13:41:16.561396",
     "status": "completed"
    },
    "slideshow": {
     "slide_type": ""
    },
    "tags": []
   },
   "outputs": [],
   "source": [
    "# prevent random files being included in dataset\n",
    "!rm -rf `find -type d -name .ipynb_checkpoints`"
   ]
  },
  {
   "cell_type": "code",
   "execution_count": 2,
   "id": "a660a9bf-733c-4920-bb64-5967b1dbbfe7",
   "metadata": {
    "editable": true,
    "execution": {
     "iopub.execute_input": "2023-12-05T13:41:17.705356Z",
     "iopub.status.busy": "2023-12-05T13:41:17.704962Z",
     "iopub.status.idle": "2023-12-05T13:41:18.816679Z",
     "shell.execute_reply": "2023-12-05T13:41:18.816331Z"
    },
    "papermill": {
     "duration": 1.118877,
     "end_time": "2023-12-05T13:41:18.817935",
     "exception": false,
     "start_time": "2023-12-05T13:41:17.699058",
     "status": "completed"
    },
    "slideshow": {
     "slide_type": ""
    },
    "tags": []
   },
   "outputs": [
    {
     "name": "stderr",
     "output_type": "stream",
     "text": [
      "/home/vincent/anaconda3/envs/mlrc_2023/lib/python3.11/site-packages/tqdm/auto.py:21: TqdmWarning: IProgress not found. Please update jupyter and ipywidgets. See https://ipywidgets.readthedocs.io/en/stable/user_install.html\n",
      "  from .autonotebook import tqdm as notebook_tqdm\n"
     ]
    },
    {
     "name": "stderr",
     "output_type": "stream",
     "text": [
      "/home/vincent/anaconda3/envs/mlrc_2023/lib/python3.11/site-packages/torchvision/io/image.py:13: UserWarning: Failed to load image Python extension: '/home/vincent/anaconda3/envs/mlrc_2023/lib/python3.11/site-packages/torchvision/image.so: undefined symbol: _ZNK3c107SymBool10guard_boolEPKcl'If you don't plan on using image functionality from `torchvision.io`, you can ignore this warning. Otherwise, there might be something wrong with your environment. Did you have `libjpeg` or `libpng` installed before building `torchvision` from source?\n",
      "  warn(\n"
     ]
    }
   ],
   "source": [
    "import papermill as pm\n",
    "import mlflow\n",
    "import torch\n",
    "from utils import md5_dir, set_seed\n",
    "from torch.utils.data import DataLoader\n",
    "import tqdm\n",
    "\n",
    "from loss_functions import kd_loss\n",
    "from datasets import TrainImageNetDataset\n",
    "\n",
    "import torch\n",
    "import torch.nn.functional as F\n",
    "\n",
    "# if using pretrained model\n",
    "from torchvision.models import ResNet50_Weights"
   ]
  },
  {
   "cell_type": "code",
   "execution_count": 3,
   "id": "119e34ef-c30b-4e73-a51d-3a4c2dd23e65",
   "metadata": {
    "editable": true,
    "execution": {
     "iopub.execute_input": "2023-12-05T13:41:18.826159Z",
     "iopub.status.busy": "2023-12-05T13:41:18.825950Z",
     "iopub.status.idle": "2023-12-05T13:41:18.841049Z",
     "shell.execute_reply": "2023-12-05T13:41:18.840762Z"
    },
    "papermill": {
     "duration": 0.021823,
     "end_time": "2023-12-05T13:41:18.841967",
     "exception": false,
     "start_time": "2023-12-05T13:41:18.820144",
     "status": "completed"
    },
    "slideshow": {
     "slide_type": ""
    },
    "tags": []
   },
   "outputs": [],
   "source": [
    "set_seed(42)\n",
    "torch.cuda.empty_cache()"
   ]
  },
  {
   "cell_type": "code",
   "execution_count": 4,
   "id": "4070927e-d82c-44d9-8841-0bd757d1477d",
   "metadata": {
    "editable": true,
    "execution": {
     "iopub.execute_input": "2023-12-05T13:41:18.846270Z",
     "iopub.status.busy": "2023-12-05T13:41:18.846015Z",
     "iopub.status.idle": "2023-12-05T13:41:18.848299Z",
     "shell.execute_reply": "2023-12-05T13:41:18.848044Z"
    },
    "papermill": {
     "duration": 0.005349,
     "end_time": "2023-12-05T13:41:18.849144",
     "exception": false,
     "start_time": "2023-12-05T13:41:18.843795",
     "status": "completed"
    },
    "slideshow": {
     "slide_type": ""
    },
    "tags": [
     "parameters"
    ]
   },
   "outputs": [],
   "source": [
    "# Default Parameters\n",
    "run_id = \"5363b9a6f6954354b7bb68d535b5ea88\"\n",
    "train_data_path = \"data/ImageNet/ILSVRC/Data/CLS-LOC/train/\"\n",
    "# test_data_path = \"data/ImageNet/ILSVRC/Data/CLS-LOC/val/\"\n",
    "\n",
    "train_data_labels_path = \"data/ImageNet/LOC_train_solution.csv\"\n",
    "# test_data_labels_path = \"data/ImageNet/LOC_val_solution.csv\"\n",
    "\n",
    "label_mapping_path = \"data/ImageNet/LOC_synset_mapping.txt\"\n",
    "\n",
    "resnet50_weights = ResNet50_Weights.DEFAULT\n",
    "\n",
    "preprocess = resnet50_weights.transforms()\n",
    "\n",
    "device = \"cuda\" if torch.cuda.is_available() else \"cpu\""
   ]
  },
  {
   "cell_type": "code",
   "execution_count": 5,
   "id": "3a3bb7bc",
   "metadata": {
    "execution": {
     "iopub.execute_input": "2023-12-05T13:41:18.853183Z",
     "iopub.status.busy": "2023-12-05T13:41:18.853036Z",
     "iopub.status.idle": "2023-12-05T13:41:18.854935Z",
     "shell.execute_reply": "2023-12-05T13:41:18.854689Z"
    },
    "papermill": {
     "duration": 0.005014,
     "end_time": "2023-12-05T13:41:18.855834",
     "exception": false,
     "start_time": "2023-12-05T13:41:18.850820",
     "status": "completed"
    },
    "tags": [
     "injected-parameters"
    ]
   },
   "outputs": [],
   "source": [
    "# Parameters\n",
    "run_id = \"726a2d8636264bcf89a895711a3232f7\"\n",
    "train_data_path = \"data/ImageNet/ILSVRC/Data/CLS-LOC/train/\"\n",
    "train_data_labels_path = \"data/ImageNet/LOC_train_solution.csv\"\n",
    "label_mapping_path = \"data/ImageNet/LOC_synset_mapping.txt\"\n"
   ]
  },
  {
   "cell_type": "code",
   "execution_count": 6,
   "id": "02e566e6-0761-4617-81fb-5d2e46471516",
   "metadata": {
    "execution": {
     "iopub.execute_input": "2023-12-05T13:41:18.859856Z",
     "iopub.status.busy": "2023-12-05T13:41:18.859704Z",
     "iopub.status.idle": "2023-12-05T13:41:20.430064Z",
     "shell.execute_reply": "2023-12-05T13:41:20.429729Z"
    },
    "papermill": {
     "duration": 1.573723,
     "end_time": "2023-12-05T13:41:20.431277",
     "exception": false,
     "start_time": "2023-12-05T13:41:18.857554",
     "status": "completed"
    },
    "tags": []
   },
   "outputs": [
    {
     "name": "stdout",
     "output_type": "stream",
     "text": [
      "data/ImageNet/LOC_synset_mapping.txt\n"
     ]
    }
   ],
   "source": [
    "train_dataset = TrainImageNetDataset(train_data_path, train_data_labels_path, label_mapping_path, preprocess)\n",
    "\n",
    "# test_dataset = TestImageNetDataset(test_data_path, test_data_labels_path, label_mapping_path, preprocess)\n",
    "\n",
    "train_dataloader = DataLoader(train_dataset, batch_size=80, shuffle=True)\n",
    "# test_dataloader = DataLoader(test_dataset, batch_size=80, shuffle=False)"
   ]
  },
  {
   "cell_type": "code",
   "execution_count": 7,
   "id": "2acf8f8a-046e-40f6-a3e9-e37523d53688",
   "metadata": {
    "execution": {
     "iopub.execute_input": "2023-12-05T13:41:20.439515Z",
     "iopub.status.busy": "2023-12-05T13:41:20.439370Z",
     "iopub.status.idle": "2023-12-05T13:41:20.807514Z",
     "shell.execute_reply": "2023-12-05T13:41:20.807165Z"
    },
    "papermill": {
     "duration": 0.375059,
     "end_time": "2023-12-05T13:41:20.808719",
     "exception": false,
     "start_time": "2023-12-05T13:41:20.433660",
     "status": "completed"
    },
    "tags": []
   },
   "outputs": [],
   "source": [
    "# if using pretrained model\n",
    "from torchvision.models import resnet50, ResNet50_Weights, resnet18\n",
    "\n",
    "resnet50_pretrained_weights = ResNet50_Weights.DEFAULT\n",
    "\n",
    "teacher = resnet50(weights=resnet50_pretrained_weights)\n",
    "\n",
    "student = resnet18(weights=None)\n",
    "independent_student = resnet18(weights=None)"
   ]
  },
  {
   "cell_type": "code",
   "execution_count": 8,
   "id": "4c4a8aaa-36c7-44da-97bc-0249d381983a",
   "metadata": {
    "execution": {
     "iopub.execute_input": "2023-12-05T13:41:20.817072Z",
     "iopub.status.busy": "2023-12-05T13:41:20.816931Z",
     "iopub.status.idle": "2023-12-05T13:41:26.278745Z",
     "shell.execute_reply": "2023-12-05T13:41:26.278345Z"
    },
    "papermill": {
     "duration": 5.468363,
     "end_time": "2023-12-05T13:41:26.279544",
     "exception": false,
     "start_time": "2023-12-05T13:41:20.811181",
     "status": "completed"
    },
    "tags": []
   },
   "outputs": [
    {
     "name": "stderr",
     "output_type": "stream",
     "text": [
      "\r",
      "  0%|          | 0/1 [00:00<?, ?it/s]"
     ]
    },
    {
     "name": "stderr",
     "output_type": "stream",
     "text": [
      "\n"
     ]
    },
    {
     "name": "stderr",
     "output_type": "stream",
     "text": [
      "\r",
      "  0%|          | 0/16015 [00:00<?, ?it/s]"
     ]
    },
    {
     "name": "stderr",
     "output_type": "stream",
     "text": [
      "\u001b[A"
     ]
    },
    {
     "name": "stderr",
     "output_type": "stream",
     "text": [
      "\r",
      "  0%|          | 0/16015 [00:01<?, ?it/s]"
     ]
    },
    {
     "name": "stderr",
     "output_type": "stream",
     "text": [
      "\n",
      "\r",
      "100%|██████████| 1/1 [00:01<00:00,  1.30s/it]"
     ]
    },
    {
     "name": "stderr",
     "output_type": "stream",
     "text": [
      "\r",
      "100%|██████████| 1/1 [00:01<00:00,  1.30s/it]"
     ]
    },
    {
     "name": "stderr",
     "output_type": "stream",
     "text": [
      "\n"
     ]
    },
    {
     "name": "stdout",
     "output_type": "stream",
     "text": [
      "Epoch [1/1], Loss: 0.0003\n"
     ]
    },
    {
     "name": "stderr",
     "output_type": "stream",
     "text": [
      "/home/vincent/anaconda3/envs/mlrc_2023/lib/python3.11/site-packages/_distutils_hack/__init__.py:18: UserWarning: Distutils was imported before Setuptools, but importing Setuptools also replaces the `distutils` module in `sys.modules`. This may lead to undesirable behaviors or errors. To avoid these issues, avoid using distutils directly, ensure that setuptools is installed in the traditional way (e.g. not an editable install), and/or make sure that setuptools is always imported before distutils.\n",
      "  warnings.warn(\n",
      "/home/vincent/anaconda3/envs/mlrc_2023/lib/python3.11/site-packages/_distutils_hack/__init__.py:33: UserWarning: Setuptools is replacing distutils.\n",
      "  warnings.warn(\"Setuptools is replacing distutils.\")\n"
     ]
    }
   ],
   "source": [
    "def train_student(student, teacher, train_dataloader, criterion, optimizer, epochs, device):\n",
    "    \"\"\"\n",
    "    - student: The smaller, untrained model that uses the teacher's output as an additional label\n",
    "    - teacher: The pretrained model used to help the student model learn\n",
    "    - train_dataloader: Dataloader for training data\n",
    "    - criterion: The loss function\n",
    "    - optimizer: The optimization algorithm\n",
    "    - epochs: Number of training epochs\n",
    "    - device: Device to run training\n",
    "    \"\"\"\n",
    "    teacher.eval()\n",
    "    teacher.to(device)\n",
    "    student.train()\n",
    "    student.to(device)\n",
    "    \n",
    "    for epoch in tqdm.tqdm(range(epochs)):\n",
    "        running_loss = 0.0\n",
    "\n",
    "        for inputs, labels in tqdm.tqdm(train_dataloader):\n",
    "            inputs, labels = inputs.to(device), labels.to(device)\n",
    "            labels = F.one_hot(labels, num_classes=1000).float()\n",
    "\n",
    "            # Zero the gradients \n",
    "            optimizer.zero_grad()\n",
    "\n",
    "            teacher_predictions = teacher(inputs)\n",
    "            student_predictions = student(inputs)\n",
    "\n",
    "            loss = criterion(student_predictions, labels, teacher_predictions, 0.5, 0.5)\n",
    "\n",
    "            loss.backward()\n",
    "\n",
    "            optimizer.step()\n",
    "\n",
    "            running_loss += loss.item()\n",
    "            break\n",
    "\n",
    "        average_loss = running_loss / len(train_dataloader)\n",
    "        print(f'Epoch [{epoch+1}/{epochs}], Loss: {average_loss:.4f}')\n",
    "\n",
    "        # save training loss in mlflow\n",
    "        with mlflow.start_run(run_id=run_id) as run:\n",
    "            mlflow.log_metric(\"student_training_loss\", average_loss)\n",
    "\n",
    "    with mlflow.start_run(run_id=run_id) as run:\n",
    "        mlflow.pytorch.log_model(\n",
    "            pytorch_model=teacher.to(\"cpu\"),\n",
    "            artifact_path=\"teacher\",\n",
    "        )\n",
    "\n",
    "        mlflow.pytorch.log_model(\n",
    "            pytorch_model=student.to(\"cpu\"),\n",
    "            artifact_path=\"student\"\n",
    "        )\n",
    "        \n",
    "        \n",
    "\n",
    "\n",
    "optimizer = torch.optim.Adam(student.parameters(), lr = 0.0001)\n",
    "epochs = 1\n",
    "train_student(student, teacher, train_dataloader, kd_loss, optimizer, epochs, device)"
   ]
  },
  {
   "cell_type": "code",
   "execution_count": 9,
   "id": "2188d05a-f37c-4cf3-a3cb-749d0758355d",
   "metadata": {
    "execution": {
     "iopub.execute_input": "2023-12-05T13:41:26.283906Z",
     "iopub.status.busy": "2023-12-05T13:41:26.283561Z",
     "iopub.status.idle": "2023-12-05T13:41:28.117135Z",
     "shell.execute_reply": "2023-12-05T13:41:28.116801Z"
    },
    "papermill": {
     "duration": 1.836695,
     "end_time": "2023-12-05T13:41:28.118319",
     "exception": false,
     "start_time": "2023-12-05T13:41:26.281624",
     "status": "completed"
    },
    "tags": []
   },
   "outputs": [
    {
     "name": "stderr",
     "output_type": "stream",
     "text": [
      "\r",
      "  0%|          | 0/1 [00:00<?, ?it/s]"
     ]
    },
    {
     "name": "stderr",
     "output_type": "stream",
     "text": [
      "\n"
     ]
    },
    {
     "name": "stderr",
     "output_type": "stream",
     "text": [
      "\r",
      "  0%|          | 0/16015 [00:00<?, ?it/s]"
     ]
    },
    {
     "name": "stderr",
     "output_type": "stream",
     "text": [
      "\u001b[A"
     ]
    },
    {
     "name": "stderr",
     "output_type": "stream",
     "text": [
      "\r",
      "  0%|          | 0/16015 [00:00<?, ?it/s]"
     ]
    },
    {
     "name": "stderr",
     "output_type": "stream",
     "text": [
      "\n",
      "\r",
      "100%|██████████| 1/1 [00:00<00:00,  2.30it/s]"
     ]
    },
    {
     "name": "stderr",
     "output_type": "stream",
     "text": [
      "\r",
      "100%|██████████| 1/1 [00:00<00:00,  2.30it/s]"
     ]
    },
    {
     "name": "stderr",
     "output_type": "stream",
     "text": [
      "\n"
     ]
    },
    {
     "name": "stdout",
     "output_type": "stream",
     "text": [
      "Epoch [1/1], Loss: 0.0004\n"
     ]
    }
   ],
   "source": [
    "def train_independent_student(independent_student, train_dataloader, criterion, optimizer, epochs, device):\n",
    "    \"\"\"\n",
    "    - teacher: The pretrained model used to help the student model learn\n",
    "    - student: The smaller, untrained model that uses the teacher's output as an additional label\n",
    "    - criterion: The loss function\n",
    "    - optimizer: The optimization algorithm\n",
    "    - epochs: Number of training epochs\n",
    "    - device: Device to run training\n",
    "    \"\"\"\n",
    "    independent_student.train()\n",
    "    independent_student.to(device)\n",
    "    \n",
    "    for epoch in tqdm.tqdm(range(epochs)):\n",
    "        running_loss = 0.0\n",
    "\n",
    "        for inputs, labels in tqdm.tqdm(train_dataloader):\n",
    "            inputs, labels = inputs.to(device), labels.to(device)\n",
    "            labels = F.one_hot(labels, num_classes=1000).float()\n",
    "\n",
    "            # Zero the gradients \n",
    "            optimizer.zero_grad()\n",
    "\n",
    "            independent_student_predictions = independent_student(inputs)\n",
    "\n",
    "            loss = criterion(independent_student_predictions, labels)\n",
    "\n",
    "            loss.backward()\n",
    "\n",
    "            optimizer.step()\n",
    "\n",
    "            running_loss += loss.item()\n",
    "            break\n",
    "\n",
    "        average_loss = running_loss / len(train_dataloader)\n",
    "        print(f'Epoch [{epoch+1}/{epochs}], Loss: {average_loss:.4f}')\n",
    "\n",
    "\n",
    "        # save training loss in mlflow\n",
    "        with mlflow.start_run(run_id=run_id) as run:\n",
    "            mlflow.log_metric(\"independent_student_training_loss\", average_loss)\n",
    "\n",
    "    with mlflow.start_run(run_id=run_id) as run:\n",
    "        mlflow.pytorch.log_model(\n",
    "            pytorch_model=independent_student.to(\"cpu\"),\n",
    "            artifact_path=\"independent_student\"\n",
    "        )\n",
    "\n",
    "optimizer = torch.optim.Adam(independent_student.parameters(), lr = 0.0001)\n",
    "epochs = 1\n",
    "criterion = torch.nn.CrossEntropyLoss()\n",
    "train_independent_student(independent_student, train_dataloader, criterion, optimizer, epochs, device)"
   ]
  },
  {
   "cell_type": "code",
   "execution_count": null,
   "id": "124e1e1a-279b-4266-bfd1-8be9dca52d9e",
   "metadata": {
    "papermill": {
     "duration": 0.002862,
     "end_time": "2023-12-05T13:41:28.124741",
     "exception": false,
     "start_time": "2023-12-05T13:41:28.121879",
     "status": "completed"
    },
    "tags": []
   },
   "outputs": [],
   "source": []
  }
 ],
 "metadata": {
  "kernelspec": {
   "display_name": "Python 3 (ipykernel)",
   "language": "python",
   "name": "python3"
  },
  "language_info": {
   "codemirror_mode": {
    "name": "ipython",
    "version": 3
   },
   "file_extension": ".py",
   "mimetype": "text/x-python",
   "name": "python",
   "nbconvert_exporter": "python",
   "pygments_lexer": "ipython3",
   "version": "3.11.5"
  },
  "papermill": {
   "default_parameters": {},
   "duration": 13.017611,
   "end_time": "2023-12-05T13:41:28.842656",
   "environment_variables": {},
   "exception": null,
   "input_path": "run_training.ipynb",
   "output_path": "output/run_training_output.ipynb",
   "parameters": {
    "label_mapping_path": "data/ImageNet/LOC_synset_mapping.txt",
    "run_id": "726a2d8636264bcf89a895711a3232f7",
    "train_data_labels_path": "data/ImageNet/LOC_train_solution.csv",
    "train_data_path": "data/ImageNet/ILSVRC/Data/CLS-LOC/train/"
   },
   "start_time": "2023-12-05T13:41:15.825045",
   "version": "2.4.0"
  }
 },
 "nbformat": 4,
 "nbformat_minor": 5
}