{
 "cells": [
  {
   "cell_type": "code",
   "execution_count": 1,
   "id": "a660a9bf-733c-4920-bb64-5967b1dbbfe7",
   "metadata": {
    "editable": true,
    "slideshow": {
     "slide_type": ""
    },
    "tags": []
   },
   "outputs": [
    {
     "name": "stderr",
     "output_type": "stream",
     "text": [
      "/root/miniconda3/envs/mlrc_2023/lib/python3.11/site-packages/tqdm/auto.py:21: TqdmWarning: IProgress not found. Please update jupyter and ipywidgets. See https://ipywidgets.readthedocs.io/en/stable/user_install.html\n",
      "  from .autonotebook import tqdm as notebook_tqdm\n",
      "/root/miniconda3/envs/mlrc_2023/lib/python3.11/site-packages/torchvision/io/image.py:13: UserWarning: Failed to load image Python extension: '/root/miniconda3/envs/mlrc_2023/lib/python3.11/site-packages/torchvision/image.so: undefined symbol: _ZNK3c107SymBool10guard_boolEPKcl'If you don't plan on using image functionality from `torchvision.io`, you can ignore this warning. Otherwise, there might be something wrong with your environment. Did you have `libjpeg` or `libpng` installed before building `torchvision` from source?\n",
      "  warn(\n"
     ]
    }
   ],
   "source": [
    "import papermill as pm\n",
    "import torch\n",
    "import mlflow\n",
    "from datasets import TestImageNetDataset\n",
    "import tqdm\n",
    "\n",
    "from torch.utils.data import DataLoader\n",
    "\n",
    "from torchvision.models import ResNet50_Weights"
   ]
  },
  {
   "cell_type": "code",
   "execution_count": 2,
   "id": "b7e4b886-1f38-43a0-a0ef-fd458aad7c12",
   "metadata": {
    "editable": true,
    "slideshow": {
     "slide_type": ""
    },
    "tags": [
     "parameters"
    ]
   },
   "outputs": [],
   "source": [
    "# Default Parameters\n",
    "run_id = \"f13020b4e2304bd7837e10d17c6ea8ea\"\n",
    "\n",
    "test_data_path = \"../data/ImageNet/ILSVRC/Data/CLS-LOC/val/\"\n",
    "test_data_labels_path = \"../data/ImageNet/LOC_val_solution.csv\"\n",
    "\n",
    "label_mapping_path = \"../data/ImageNet/LOC_synset_mapping.txt\"\n",
    "\n",
    "resnet50_weights = ResNet50_Weights.DEFAULT\n",
    "\n",
    "preprocess = resnet50_weights.transforms()\n",
    "device = \"cuda\" if torch.cuda.is_available() else \"cpu\""
   ]
  },
  {
   "cell_type": "code",
   "execution_count": 3,
   "id": "f1a98bf1-ba94-44c4-9a5b-31a055518cd2",
   "metadata": {},
   "outputs": [],
   "source": [
    "# load in saved model\n",
    "with mlflow.start_run(run_id=run_id) as run:\n",
    "    teacher_model_uri = f\"runs:/{run.info.run_id}/teacher\"\n",
    "    teacher = mlflow.pytorch.load_model(teacher_model_uri)\n",
    "    \n",
    "    student_model_uri = f\"runs:/{run.info.run_id}/student\"\n",
    "    student = mlflow.pytorch.load_model(student_model_uri)\n",
    "    \n",
    "    independent_student_model_uri = f\"runs:/{run.info.run_id}/independent_student\"\n",
    "    independent_student = mlflow.pytorch.load_model(independent_student_model_uri)"
   ]
  },
  {
   "cell_type": "code",
   "execution_count": 4,
   "id": "a493ba85-0a76-4e0f-95c6-b3fdcec65394",
   "metadata": {},
   "outputs": [],
   "source": [
    "\n",
    "# label_mapping = {}\n",
    "# with open(label_mapping_path) as f:\n",
    "#     reader = csv.reader(f)\n",
    "#     for mapping in reader:\n",
    "#         mapping = mapping[0].split() + mapping[1:]\n",
    "#         id = mapping[0]\n",
    "#         label = ', '.join(mapping[1:])\n",
    "#         label_mapping[id] = label\n",
    "        \n",
    "                "
   ]
  },
  {
   "cell_type": "code",
   "execution_count": 5,
   "id": "8c4db60a-c6a8-4180-b9f4-659b65b32a67",
   "metadata": {},
   "outputs": [],
   "source": [
    "test_dataset = TestImageNetDataset(test_data_path, test_data_labels_path, label_mapping_path, preprocess)\n",
    "test_dataloader = DataLoader(test_dataset, batch_size=72, shuffle=False)"
   ]
  },
  {
   "cell_type": "code",
   "execution_count": 6,
   "id": "9bf4c2bd-d8cb-473d-a0b8-3db34b0e201e",
   "metadata": {},
   "outputs": [
    {
     "name": "stderr",
     "output_type": "stream",
     "text": [
      "100%|█████████████████████████████████████████| 695/695 [05:05<00:00,  2.28it/s]"
     ]
    },
    {
     "name": "stdout",
     "output_type": "stream",
     "text": [
      "Teacher Accuracy:  0.79782\n",
      "Student Accuracy:  0.00064\n",
      "Independent Student Accuracy:  0.00114\n"
     ]
    },
    {
     "name": "stderr",
     "output_type": "stream",
     "text": [
      "\n"
     ]
    }
   ],
   "source": [
    "def evaluate(student, teacher, independent_student, test_dataloader, device):\n",
    "    \"\"\"\n",
    "    - teacher: The pretrained model used to help the student model learn\n",
    "    - student: The smaller, untrained model that uses the teacher's output as an additional label\n",
    "    - independent_student: The smaller, untrained model that doesn't use the teacher's output as an additional label\n",
    "    - test_dataloader: Dataloader for test set\n",
    "    - device: Device to run training\n",
    "    \"\"\"\n",
    "    teacher.eval()\n",
    "    teacher.to(device)\n",
    "    student.train()\n",
    "    student.to(device)\n",
    "    independent_student.eval()\n",
    "    independent_student.to(device)\n",
    "    \n",
    "    teacher_correct_predictions = 0\n",
    "    student_correct_predictions = 0\n",
    "    independent_student_correct_predictions = 0\n",
    "    total_samples = 0\n",
    "    with torch.no_grad():\n",
    "        \n",
    "        for inputs, labels in tqdm.tqdm(test_dataloader):\n",
    "            inputs, labels = inputs.to(device), labels.to(device)\n",
    "\n",
    "            teacher_predictions = torch.argmax(teacher(inputs), axis=1)\n",
    "            student_predictions = torch.argmax(student(inputs), axis=1)\n",
    "            independent_student_predictions = torch.argmax(independent_student(inputs), axis=1)\n",
    "\n",
    "            teacher_correct_predictions += (teacher_predictions == labels).sum().item()\n",
    "            student_correct_predictions += (student_predictions == labels).sum().item()\n",
    "            independent_student_correct_predictions += (independent_student_predictions == labels).sum().item()\n",
    "\n",
    "            total_samples += labels.size().numel()\n",
    "\n",
    "\n",
    "    teacher_accuracy = teacher_correct_predictions / total_samples\n",
    "    student_accuracy = student_correct_predictions / total_samples\n",
    "    independent_student_accuracy = independent_student_correct_predictions / total_samples\n",
    "\n",
    "    print(\"Teacher Accuracy: \", teacher_accuracy)\n",
    "    print(\"Student Accuracy: \", student_accuracy)\n",
    "    print(\"Independent Student Accuracy: \", independent_student_accuracy)\n",
    "    \n",
    "    with mlflow.start_run(run_id=run_id) as run:\n",
    "        mlflow.log_metric(\"teacher_accuracy\", teacher_accuracy)\n",
    "        mlflow.log_metric(\"student_accuracy\", student_accuracy)\n",
    "        mlflow.log_metric(\"independent_student_accuracy\", independent_student_accuracy)\n",
    "\n",
    "\n",
    "evaluate(student, teacher, independent_student, test_dataloader, device)"
   ]
  },
  {
   "cell_type": "code",
   "execution_count": null,
   "id": "24a94277-a734-42df-949d-b1c310f14e7c",
   "metadata": {},
   "outputs": [],
   "source": []
  },
  {
   "cell_type": "code",
   "execution_count": null,
   "id": "c52c2a64-06d2-4601-945e-d96c5ea11138",
   "metadata": {},
   "outputs": [],
   "source": []
  }
 ],
 "metadata": {
  "kernelspec": {
   "display_name": "Python 3 (ipykernel)",
   "language": "python",
   "name": "python3"
  },
  "language_info": {
   "codemirror_mode": {
    "name": "ipython",
    "version": 3
   },
   "file_extension": ".py",
   "mimetype": "text/x-python",
   "name": "python",
   "nbconvert_exporter": "python",
   "pygments_lexer": "ipython3",
   "version": "3.11.5"
  }
 },
 "nbformat": 4,
 "nbformat_minor": 5
}
