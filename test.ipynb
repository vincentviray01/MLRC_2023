{
 "cells": [
  {
   "cell_type": "code",
   "execution_count": 4,
   "id": "62d1a995-dd41-4c43-8a05-d9a0354bf8c3",
   "metadata": {
    "editable": true,
    "slideshow": {
     "slide_type": ""
    },
    "tags": []
   },
   "outputs": [
    {
     "name": "stderr",
     "output_type": "stream",
     "text": [
      "/home/vincent/anaconda3/envs/mlrc_2023/lib/python3.12/site-packages/tqdm/auto.py:21: TqdmWarning: IProgress not found. Please update jupyter and ipywidgets. See https://ipywidgets.readthedocs.io/en/stable/user_install.html\n",
      "  from .autonotebook import tqdm as notebook_tqdm\n",
      "Executing:   0%|                                                                                                                                                                           | 0/4 [00:00<?, ?cell/s]0.00s - Debugger warning: It seems that frozen modules are being used, which may\n",
      "0.00s - make the debugger miss breakpoints. Please pass -Xfrozen_modules=off\n",
      "0.00s - to python to disable frozen modules.\n",
      "0.00s - Note: Debugging will proceed. Set PYDEVD_DISABLE_FILE_VALIDATION=1 to disable this validation.\n",
      "Executing: 100%|███████████████████████████████████████████████████████████████████████████████████████████████████████████████████████████████████████████████████████████████████| 4/4 [00:00<00:00,  5.16cell/s]\n"
     ]
    },
    {
     "data": {
      "text/plain": [
       "{'cells': [{'cell_type': 'code',\n",
       "   'execution_count': 1,\n",
       "   'id': 'a660a9bf-733c-4920-bb64-5967b1dbbfe7',\n",
       "   'metadata': {'editable': True,\n",
       "    'slideshow': {'slide_type': ''},\n",
       "    'tags': [],\n",
       "    'papermill': {'exception': False,\n",
       "     'start_time': '2023-11-12T02:58:52.088868',\n",
       "     'end_time': '2023-11-12T02:58:52.189262',\n",
       "     'duration': 0.100394,\n",
       "     'status': 'completed'},\n",
       "    'execution': {'iopub.status.busy': '2023-11-12T02:58:52.091521Z',\n",
       "     'iopub.execute_input': '2023-11-12T02:58:52.091748Z',\n",
       "     'shell.execute_reply': '2023-11-12T02:58:52.187754Z',\n",
       "     'iopub.status.idle': '2023-11-12T02:58:52.188218Z'}},\n",
       "   'outputs': [],\n",
       "   'source': 'import papermill as pm'},\n",
       "  {'cell_type': 'code',\n",
       "   'execution_count': 2,\n",
       "   'id': '0c07d8fd-e20a-41a5-a722-4dc5ce6f8894',\n",
       "   'metadata': {'editable': True,\n",
       "    'slideshow': {'slide_type': ''},\n",
       "    'tags': ['parameters'],\n",
       "    'papermill': {'exception': False,\n",
       "     'start_time': '2023-11-12T02:58:52.191464',\n",
       "     'end_time': '2023-11-12T02:58:52.196257',\n",
       "     'duration': 0.004793,\n",
       "     'status': 'completed'},\n",
       "    'execution': {'iopub.status.busy': '2023-11-12T02:58:52.193319Z',\n",
       "     'iopub.execute_input': '2023-11-12T02:58:52.193454Z',\n",
       "     'shell.execute_reply': '2023-11-12T02:58:52.195173Z',\n",
       "     'iopub.status.idle': '2023-11-12T02:58:52.195486Z'}},\n",
       "   'outputs': [],\n",
       "   'source': '# tag: parameters\\nalpha=0.1\\nratio=0.1'},\n",
       "  {'id': '205c0e6d',\n",
       "   'cell_type': 'code',\n",
       "   'metadata': {'tags': ['injected-parameters'],\n",
       "    'papermill': {'exception': False,\n",
       "     'start_time': '2023-11-12T02:58:52.197531',\n",
       "     'end_time': '2023-11-12T02:58:52.202561',\n",
       "     'duration': 0.00503,\n",
       "     'status': 'completed'},\n",
       "    'execution': {'iopub.status.busy': '2023-11-12T02:58:52.199396Z',\n",
       "     'iopub.execute_input': '2023-11-12T02:58:52.199637Z',\n",
       "     'shell.execute_reply': '2023-11-12T02:58:52.201297Z',\n",
       "     'iopub.status.idle': '2023-11-12T02:58:52.201794Z'}},\n",
       "   'execution_count': 3,\n",
       "   'source': '# Parameters\\nalpha = 0.6\\nratio = 0.1\\n',\n",
       "   'outputs': []},\n",
       "  {'cell_type': 'code',\n",
       "   'execution_count': 4,\n",
       "   'id': '34e69605-c40e-4ac7-b157-8ec7e57a1da9',\n",
       "   'metadata': {'editable': True,\n",
       "    'slideshow': {'slide_type': ''},\n",
       "    'tags': [],\n",
       "    'papermill': {'exception': False,\n",
       "     'start_time': '2023-11-12T02:58:52.203837',\n",
       "     'end_time': '2023-11-12T02:58:52.208685',\n",
       "     'duration': 0.004848,\n",
       "     'status': 'completed'},\n",
       "    'execution': {'iopub.status.busy': '2023-11-12T02:58:52.205496Z',\n",
       "     'iopub.execute_input': '2023-11-12T02:58:52.205624Z',\n",
       "     'iopub.status.idle': '2023-11-12T02:58:52.207970Z',\n",
       "     'shell.execute_reply': '2023-11-12T02:58:52.207638Z'}},\n",
       "   'outputs': [{'output_type': 'stream',\n",
       "     'name': 'stdout',\n",
       "     'text': '0.6\\n0.1\\n'}],\n",
       "   'source': 'print(alpha)\\nprint(ratio)'}],\n",
       " 'metadata': {'kernelspec': {'display_name': 'Python 3 (ipykernel)',\n",
       "   'language': 'python',\n",
       "   'name': 'python3'},\n",
       "  'language_info': {'name': 'python',\n",
       "   'version': '3.12.0',\n",
       "   'mimetype': 'text/x-python',\n",
       "   'codemirror_mode': {'name': 'ipython', 'version': 3},\n",
       "   'pygments_lexer': 'ipython3',\n",
       "   'nbconvert_exporter': 'python',\n",
       "   'file_extension': '.py'},\n",
       "  'papermill': {'default_parameters': {},\n",
       "   'parameters': {'alpha': 0.6, 'ratio': 0.1},\n",
       "   'environment_variables': {},\n",
       "   'version': '2.5.0',\n",
       "   'input_path': 'run_training.ipynb',\n",
       "   'output_path': 'output.ipynb',\n",
       "   'start_time': '2023-11-12T02:58:51.549495',\n",
       "   'end_time': '2023-11-12T02:58:52.324694',\n",
       "   'duration': 0.775199,\n",
       "   'exception': None}},\n",
       " 'nbformat': 4,\n",
       " 'nbformat_minor': 5}"
      ]
     },
     "execution_count": 4,
     "metadata": {},
     "output_type": "execute_result"
    }
   ],
   "source": [
    "import papermill as pm\n",
    "\n",
    "input_ipynb = \"run_training.ipynb\"\n",
    "output_ipynb = \"output.ipynb\"\n",
    "pm.execute_notebook(input_ipynb, output_ipynb, parameters = dict(alpha=0.6, ratio=0.1))"
   ]
  },
  {
   "cell_type": "code",
   "execution_count": null,
   "id": "d4eec23e-027c-461c-9dbc-9a6c1a6065d3",
   "metadata": {
    "editable": true,
    "slideshow": {
     "slide_type": ""
    },
    "tags": []
   },
   "outputs": [],
   "source": [
    "# $ papermill local/input.ipynb s3://bkt/output.ipynb -p alpha 0.6 -p l1_ratio 0.1"
   ]
  }
 ],
 "metadata": {
  "kernelspec": {
   "display_name": "Python 3 (ipykernel)",
   "language": "python",
   "name": "python3"
  },
  "language_info": {
   "codemirror_mode": {
    "name": "ipython",
    "version": 3
   },
   "file_extension": ".py",
   "mimetype": "text/x-python",
   "name": "python",
   "nbconvert_exporter": "python",
   "pygments_lexer": "ipython3",
   "version": "3.12.0"
  }
 },
 "nbformat": 4,
 "nbformat_minor": 5
}
