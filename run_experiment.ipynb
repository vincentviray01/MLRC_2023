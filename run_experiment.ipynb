{
 "cells": [
  {
   "cell_type": "code",
   "execution_count": 3,
   "id": "bff6edc4-aae4-4da8-8df3-d28d0a70ca60",
   "metadata": {
    "editable": true,
    "slideshow": {
     "slide_type": ""
    },
    "tags": []
   },
   "outputs": [],
   "source": [
    "import papermill as pm\n",
    "import mlflow\n",
    "from utils import md5_dir"
   ]
  },
  {
   "cell_type": "code",
   "execution_count": 4,
   "id": "13c027b2-2761-4a20-9427-0b2f3d4117b2",
   "metadata": {
    "editable": true,
    "slideshow": {
     "slide_type": ""
    },
    "tags": [
     "parameters"
    ]
   },
   "outputs": [],
   "source": [
    "train_data_path = \"/home/vincent/projects/MLRC_2023/data/ImageNet/ILSVRC/Data/CLS-LOC/train/\"\n",
    "test_data_path = \"/home/vincent/projects/MLRC_2023/data/ImageNet/ILSVRC/Data/CLS-LOC/val/\"\n",
    "\n",
    "train_data_labels_path = \"/home/vincent/projects/MLRC_2023/data/ImageNet/LOC_train_solution.csv\"\n",
    "test_data_labels_path = \"/home/vincent/projects/MLRC_2023/data/ImageNet/LOC_val_solution.csv\"\n",
    "\n",
    "label_mapping_path = \"/home/vincent/projects/MLRC_2023/data/ImageNet/LOC_synset_mapping.txt\""
   ]
  },
  {
   "cell_type": "code",
   "execution_count": 6,
   "id": "5f44f594-f442-469f-97a3-36bc14999c49",
   "metadata": {
    "editable": true,
    "slideshow": {
     "slide_type": ""
    },
    "tags": []
   },
   "outputs": [],
   "source": [
    "### Record Environment for Reproducability"
   ]
  },
  {
   "cell_type": "code",
   "execution_count": 5,
   "id": "358c9e5a-3665-4599-a25b-8c248adf6c01",
   "metadata": {
    "editable": true,
    "slideshow": {
     "slide_type": ""
    },
    "tags": []
   },
   "outputs": [],
   "source": [
    "from watermark import watermark\n",
    "with open(\"environment.txt\", \"w\") as f:\n",
    "    f.write(watermark())"
   ]
  },
  {
   "cell_type": "code",
   "execution_count": null,
   "id": "821af629-796b-4252-ad8b-48cb06667519",
   "metadata": {},
   "outputs": [],
   "source": [
    "# train_set_hash = md5_dir(train_data_path)\n",
    "# test_set_hash = md5_dir(test_data_path)\n",
    "\n",
    "\n",
    "# these are precomputed, but when actually running experiments, need to run above\n",
    "train_set_hash = '9fce42f1e8e93050a299b3c7787c61f6'\n",
    "\n",
    "test_set_hash = 'b1f62b4451f953d0deb23695b095e7f0'"
   ]
  },
  {
   "cell_type": "code",
   "execution_count": null,
   "id": "277317f4-1a34-41af-b4ea-fe5a903fb5e2",
   "metadata": {},
   "outputs": [],
   "source": [
    "def log_experiment_setup():\n",
    "    with mlflow.start_run(run_id=run_id) as run:\n",
    "        environment_path = \"environment.txt\"\n",
    "        mlflow.log_artifact(environment_path)\n",
    "        mlflow.log_param(\"test_set_hash\", test_set_hash)\n",
    "        mlflow.log_param(\"train_set_hash\", train_set_hash)\n",
    "\n",
    "log_experiment_setup() "
   ]
  },
  {
   "cell_type": "code",
   "execution_count": null,
   "id": "46cec5e3-c935-4fb1-b56d-b1468a45e486",
   "metadata": {},
   "outputs": [],
   "source": [
    "# run_preprocessing = True"
   ]
  },
  {
   "cell_type": "markdown",
   "id": "48918552-c849-4f57-82ff-9a5318972854",
   "metadata": {
    "editable": true,
    "slideshow": {
     "slide_type": ""
    },
    "tags": []
   },
   "source": [
    "### Run Experiment Pipeline"
   ]
  },
  {
   "cell_type": "code",
   "execution_count": 16,
   "id": "0c07d8fd-e20a-41a5-a722-4dc5ce6f8894",
   "metadata": {
    "editable": true,
    "slideshow": {
     "slide_type": ""
    },
    "tags": []
   },
   "outputs": [
    {
     "name": "stdout",
     "output_type": "stream",
     "text": [
      "Experiment Run Id:  1668ce43c989411a900a18bcb8ab1766\n"
     ]
    },
    {
     "name": "stderr",
     "output_type": "stream",
     "text": [
      "Executing:   0%|                                                                                                                                                                           | 0/8 [00:00<?, ?cell/s]0.00s - Debugger warning: It seems that frozen modules are being used, which may\n",
      "0.00s - make the debugger miss breakpoints. Please pass -Xfrozen_modules=off\n",
      "0.00s - to python to disable frozen modules.\n",
      "0.00s - Note: Debugging will proceed. Set PYDEVD_DISABLE_FILE_VALIDATION=1 to disable this validation.\n",
      "Executing:  50%|█████████████████████████████████████████████████████████████████████████████████▌                                                                                 | 4/8 [00:01<00:01,  3.23cell/s]\n"
     ]
    },
    {
     "ename": "PapermillExecutionError",
     "evalue": "\n---------------------------------------------------------------------------\nException encountered at \"In [4]\":\n\u001b[0;31m---------------------------------------------------------------------------\u001b[0m\n\u001b[0;31mNameError\u001b[0m                                 Traceback (most recent call last)\nCell \u001b[0;32mIn[4], line 1\u001b[0m\n\u001b[0;32m----> 1\u001b[0m \u001b[43mf\u001b[49m\n\n\u001b[0;31mNameError\u001b[0m: name 'f' is not defined\n",
     "output_type": "error",
     "traceback": [
      "\u001b[0;31m---------------------------------------------------------------------------\u001b[0m",
      "\u001b[0;31mPapermillExecutionError\u001b[0m                   Traceback (most recent call last)",
      "Cell \u001b[0;32mIn[16], line 10\u001b[0m\n\u001b[1;32m      8\u001b[0m parameters \u001b[38;5;241m=\u001b[39m {}\n\u001b[1;32m      9\u001b[0m parameters[\u001b[38;5;124m\"\u001b[39m\u001b[38;5;124mrun_id\u001b[39m\u001b[38;5;124m\"\u001b[39m] \u001b[38;5;241m=\u001b[39m run_id\n\u001b[0;32m---> 10\u001b[0m \u001b[43mpm\u001b[49m\u001b[38;5;241;43m.\u001b[39;49m\u001b[43mexecute_notebook\u001b[49m\u001b[43m(\u001b[49m\u001b[43mpreprocessing_notebook\u001b[49m\u001b[43m,\u001b[49m\u001b[43m \u001b[49m\u001b[43mpreprocessing_output_notebook\u001b[49m\u001b[43m,\u001b[49m\u001b[43m \u001b[49m\u001b[43mparameters\u001b[49m\u001b[43m \u001b[49m\u001b[38;5;241;43m=\u001b[39;49m\u001b[43m \u001b[49m\u001b[43mparameters\u001b[49m\u001b[43m)\u001b[49m\n\u001b[1;32m     12\u001b[0m \u001b[38;5;66;03m# Call Training Notebook\u001b[39;00m\n\u001b[1;32m     13\u001b[0m training_notebook \u001b[38;5;241m=\u001b[39m \u001b[38;5;124m\"\u001b[39m\u001b[38;5;124mrun_training.ipynb\u001b[39m\u001b[38;5;124m\"\u001b[39m\n",
      "File \u001b[0;32m~/anaconda3/envs/mlrc_2023/lib/python3.12/site-packages/papermill/execute.py:134\u001b[0m, in \u001b[0;36mexecute_notebook\u001b[0;34m(input_path, output_path, parameters, engine_name, request_save_on_cell_execute, prepare_only, kernel_name, language, progress_bar, log_output, stdout_file, stderr_file, start_timeout, report_mode, cwd, **engine_kwargs)\u001b[0m\n\u001b[1;32m    119\u001b[0m         nb \u001b[38;5;241m=\u001b[39m papermill_engines\u001b[38;5;241m.\u001b[39mexecute_notebook_with_engine(\n\u001b[1;32m    120\u001b[0m             engine_name,\n\u001b[1;32m    121\u001b[0m             nb,\n\u001b[0;32m   (...)\u001b[0m\n\u001b[1;32m    130\u001b[0m             \u001b[38;5;241m*\u001b[39m\u001b[38;5;241m*\u001b[39mengine_kwargs\n\u001b[1;32m    131\u001b[0m         )\n\u001b[1;32m    133\u001b[0m     \u001b[38;5;66;03m# Check for errors first (it saves on error before raising)\u001b[39;00m\n\u001b[0;32m--> 134\u001b[0m     \u001b[43mraise_for_execution_errors\u001b[49m\u001b[43m(\u001b[49m\u001b[43mnb\u001b[49m\u001b[43m,\u001b[49m\u001b[43m \u001b[49m\u001b[43moutput_path\u001b[49m\u001b[43m)\u001b[49m\n\u001b[1;32m    136\u001b[0m \u001b[38;5;66;03m# Write final output in case the engine didn't write it on cell completion.\u001b[39;00m\n\u001b[1;32m    137\u001b[0m write_ipynb(nb, output_path)\n",
      "File \u001b[0;32m~/anaconda3/envs/mlrc_2023/lib/python3.12/site-packages/papermill/execute.py:241\u001b[0m, in \u001b[0;36mraise_for_execution_errors\u001b[0;34m(nb, output_path)\u001b[0m\n\u001b[1;32m    238\u001b[0m nb\u001b[38;5;241m.\u001b[39mcells\u001b[38;5;241m.\u001b[39minsert(\u001b[38;5;241m0\u001b[39m, error_msg_cell)\n\u001b[1;32m    240\u001b[0m write_ipynb(nb, output_path)\n\u001b[0;32m--> 241\u001b[0m \u001b[38;5;28;01mraise\u001b[39;00m error\n",
      "\u001b[0;31mPapermillExecutionError\u001b[0m: \n---------------------------------------------------------------------------\nException encountered at \"In [4]\":\n\u001b[0;31m---------------------------------------------------------------------------\u001b[0m\n\u001b[0;31mNameError\u001b[0m                                 Traceback (most recent call last)\nCell \u001b[0;32mIn[4], line 1\u001b[0m\n\u001b[0;32m----> 1\u001b[0m \u001b[43mf\u001b[49m\n\n\u001b[0;31mNameError\u001b[0m: name 'f' is not defined\n"
     ]
    }
   ],
   "source": [
    "with mlflow.start_run() as run:\n",
    "    run_id = run.info.run_id\n",
    "    print(\"Experiment Run Id: \", run_id)\n",
    "\n",
    "    # if run_preprocessing = True:\n",
    "    #     # Call Preprocessing Notebook\n",
    "    #     preprocessing_notebook = \"run_preprocessing.ipynb\"\n",
    "    #     preprocessing_output_notebook = \"output/run_preprocessing_output.ipynb\"\n",
    "    #     parameters = {}\n",
    "    #     parameters[\"run_id\"] = run_id\n",
    "    #     parameters[\"train_data\"] = train_data\n",
    "    #     parameters[\"test_data\"] = test_data\n",
    "    #     parameters[\"preprocess_pipeline\"] = preprocess\n",
    "    #     pm.execute_notebook(preprocessing_notebook, preprocessing_output_notebook, parameters = parameters)\n",
    "        \n",
    "    # Call Training Notebook\n",
    "    training_notebook = \"run_training.ipynb\"\n",
    "    training_output_notebook = \"output/run_training_output.ipynb\"\n",
    "    parameters = {}\n",
    "    parameters[\"run_id\"] = run_id\n",
    "    parameters[\"train_data_path\"] = train_data_path\n",
    "    parameters[\"train_data_labels_path\"] = train_data_labels_path\n",
    "    parameters[\"label_mapping_path\"]\n",
    "    \n",
    "    pm.execute_notebook(training_notebook, training_output_notebook, parameters = parameters)\n",
    "    \n",
    "    # Call Evaluation Notebook\n",
    "    evaluation_notebook = \"run_evaluation.ipynb\"\n",
    "    evaluation_output_notebook = \"output/run_evaluation_output.ipynb\"\n",
    "    parameters = {}\n",
    "    parameters[\"run_id\"] = run_id\n",
    "    parameters[\"test_data_path\"] = test_data_path\n",
    "    parameters[\"test_data_labels_path\"] = test_data_labels_path\n",
    "    parameters[\"label_mapping_path\"] = label_mapping_path\n",
    "    pm.execute_notebook(evaluation_notebook, evaluation_output_notebook, parameters = parameters)"
   ]
  }
 ],
 "metadata": {
  "kernelspec": {
   "display_name": "Python 3 (ipykernel)",
   "language": "python",
   "name": "python3"
  },
  "language_info": {
   "codemirror_mode": {
    "name": "ipython",
    "version": 3
   },
   "file_extension": ".py",
   "mimetype": "text/x-python",
   "name": "python",
   "nbconvert_exporter": "python",
   "pygments_lexer": "ipython3",
   "version": "3.11.5"
  }
 },
 "nbformat": 4,
 "nbformat_minor": 5
}
