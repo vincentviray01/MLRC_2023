{
 "cells": [
  {
   "cell_type": "markdown",
   "id": "450cd8d1-c56d-4b2a-986f-b43c5a9cd4d7",
   "metadata": {
    "editable": true,
    "slideshow": {
     "slide_type": ""
    },
    "tags": []
   },
   "source": [
    "# Table Of Contents"
   ]
  },
  {
   "cell_type": "markdown",
   "id": "6ee84879-06c5-4ae0-8b78-7a9772ee773d",
   "metadata": {},
   "source": [
    "## Preprocessing"
   ]
  },
  {
   "cell_type": "markdown",
   "id": "d2b5708c-1185-4e0b-9e75-6876b815caee",
   "metadata": {
    "jp-MarkdownHeadingCollapsed": true
   },
   "source": [
    "## Experimentation"
   ]
  },
  {
   "cell_type": "markdown",
   "id": "aace36b3-0e6e-4ab7-a3de-6a76bb9ad607",
   "metadata": {},
   "source": [
    "## Results"
   ]
  },
  {
   "cell_type": "code",
   "execution_count": 3,
   "id": "358c9e5a-3665-4599-a25b-8c248adf6c01",
   "metadata": {},
   "outputs": [
    {
     "name": "stdout",
     "output_type": "stream",
     "text": [
      "Last updated: 2023-11-11T15:47:34.497406-08:00\n",
      "\n",
      "Python implementation: CPython\n",
      "Python version       : 3.12.0\n",
      "IPython version      : 8.17.2\n",
      "\n",
      "Compiler    : GCC 12.3.0\n",
      "OS          : Linux\n",
      "Release     : 6.2.0-26-generic\n",
      "Machine     : x86_64\n",
      "Processor   : x86_64\n",
      "CPU cores   : 24\n",
      "Architecture: 64bit\n",
      "\n"
     ]
    }
   ],
   "source": [
    "from watermark import watermark\n",
    "print(watermark())"
   ]
  },
  {
   "cell_type": "code",
   "execution_count": 4,
   "id": "f652e805-faac-48fb-ba8c-4bd89d2f0187",
   "metadata": {
    "editable": true,
    "slideshow": {
     "slide_type": ""
    },
    "tags": []
   },
   "outputs": [
    {
     "name": "stderr",
     "output_type": "stream",
     "text": [
      "UsageError: Line magic function `%watermark` not found.\n"
     ]
    }
   ],
   "source": [
    "%watermark -iversions"
   ]
  },
  {
   "cell_type": "code",
   "execution_count": 8,
   "id": "5777a65f-ad3e-49bd-95b9-fc41a4661314",
   "metadata": {
    "editable": true,
    "slideshow": {
     "slide_type": ""
    },
    "tags": [
     "parameters"
    ]
   },
   "outputs": [],
   "source": [
    "# This cell is tagged 'parameters'\n",
    "parameter = \"hi\""
   ]
  },
  {
   "cell_type": "code",
   "execution_count": 9,
   "id": "49f9248d-a74a-42b5-a7c1-ed139e7537dc",
   "metadata": {
    "editable": true,
    "slideshow": {
     "slide_type": ""
    },
    "tags": [
     "parameters"
    ]
   },
   "outputs": [],
   "source": [
    "def print_parameter(parameter):\n",
    "    print(parameter)"
   ]
  },
  {
   "cell_type": "code",
   "execution_count": 11,
   "id": "acbfe780-3a79-4698-a838-e9bcac8903d9",
   "metadata": {
    "editable": true,
    "slideshow": {
     "slide_type": ""
    },
    "tags": [
     "parameters"
    ]
   },
   "outputs": [
    {
     "ename": "TypeError",
     "evalue": "print_parameter() missing 1 required positional argument: 'parameter'",
     "output_type": "error",
     "traceback": [
      "\u001b[0;31m---------------------------------------------------------------------------\u001b[0m",
      "\u001b[0;31mTypeError\u001b[0m                                 Traceback (most recent call last)",
      "Cell \u001b[0;32mIn[11], line 1\u001b[0m\n\u001b[0;32m----> 1\u001b[0m \u001b[43mprint_parameter\u001b[49m\u001b[43m(\u001b[49m\u001b[43m)\u001b[49m\n",
      "\u001b[0;31mTypeError\u001b[0m: print_parameter() missing 1 required positional argument: 'parameter'"
     ]
    }
   ],
   "source": [
    "print_parameter()"
   ]
  },
  {
   "cell_type": "code",
   "execution_count": 13,
   "id": "15fa4cc3-5db2-4478-87a1-aa85e3131214",
   "metadata": {
    "editable": true,
    "slideshow": {
     "slide_type": ""
    },
    "tags": []
   },
   "outputs": [],
   "source": [
    "import mlflow"
   ]
  },
  {
   "cell_type": "code",
   "execution_count": null,
   "id": "1579bae9-e161-4530-9af4-59ac0ab47f79",
   "metadata": {},
   "outputs": [],
   "source": [
    "def log_parameters():\n",
    "    mlflow.log_param(\"seed\", seed)\n",
    "\n",
    "def log_metrics():\n",
    "    mlflow.log_metric(\"rmse\", rmse)\n",
    "\n",
    "# log model\n",
    "mlflow.sklearn.log_model(lr, \"model\", registered_model_name=\"ElasticWineModel01\")\n",
    "\n",
    "def log_artifacts():\n",
    "    mlflow.log_artifact(temp_name, \"rmse_estimators_plots\")\n",
    "\n"
   ]
  }
 ],
 "metadata": {
  "kernelspec": {
   "display_name": "Python 3 (ipykernel)",
   "language": "python",
   "name": "python3"
  },
  "language_info": {
   "codemirror_mode": {
    "name": "ipython",
    "version": 3
   },
   "file_extension": ".py",
   "mimetype": "text/x-python",
   "name": "python",
   "nbconvert_exporter": "python",
   "pygments_lexer": "ipython3",
   "version": "3.12.0"
  }
 },
 "nbformat": 4,
 "nbformat_minor": 5
}
