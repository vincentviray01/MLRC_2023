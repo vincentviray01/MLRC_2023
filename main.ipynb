{
 "cells": [
  {
   "cell_type": "markdown",
   "id": "450cd8d1-c56d-4b2a-986f-b43c5a9cd4d7",
   "metadata": {
    "editable": true,
    "slideshow": {
     "slide_type": ""
    },
    "tags": []
   },
   "source": [
    "# Table Of Contents"
   ]
  },
  {
   "cell_type": "markdown",
   "id": "6ee84879-06c5-4ae0-8b78-7a9772ee773d",
   "metadata": {},
   "source": [
    "## Preprocessing"
   ]
  },
  {
   "cell_type": "markdown",
   "id": "d2b5708c-1185-4e0b-9e75-6876b815caee",
   "metadata": {
    "editable": true,
    "jp-MarkdownHeadingCollapsed": true,
    "slideshow": {
     "slide_type": ""
    },
    "tags": []
   },
   "source": [
    "## Experimentation"
   ]
  },
  {
   "cell_type": "markdown",
   "id": "aace36b3-0e6e-4ab7-a3de-6a76bb9ad607",
   "metadata": {},
   "source": [
    "## Results"
   ]
  },
  {
   "cell_type": "code",
   "execution_count": 14,
   "id": "358c9e5a-3665-4599-a25b-8c248adf6c01",
   "metadata": {
    "editable": true,
    "slideshow": {
     "slide_type": ""
    },
    "tags": []
   },
   "outputs": [],
   "source": [
    "from watermark import watermark\n",
    "with open(\"environment.txt\", \"w\") as f:\n",
    "    f.write(watermark())"
   ]
  },
  {
   "cell_type": "code",
   "execution_count": 15,
   "id": "f43ee31d-b63c-494f-9655-505d03c5e1ec",
   "metadata": {
    "editable": true,
    "slideshow": {
     "slide_type": ""
    },
    "tags": []
   },
   "outputs": [
    {
     "ename": "AttributeError",
     "evalue": "module 'pip' has no attribute 'get_installed_distributions'",
     "output_type": "error",
     "traceback": [
      "\u001b[0;31m---------------------------------------------------------------------------\u001b[0m",
      "\u001b[0;31mAttributeError\u001b[0m                            Traceback (most recent call last)",
      "Cell \u001b[0;32mIn[15], line 2\u001b[0m\n\u001b[1;32m      1\u001b[0m \u001b[38;5;28;01mimport\u001b[39;00m \u001b[38;5;21;01mpip\u001b[39;00m\n\u001b[0;32m----> 2\u001b[0m installed_packages \u001b[38;5;241m=\u001b[39m \u001b[43mpip\u001b[49m\u001b[38;5;241;43m.\u001b[39;49m\u001b[43mget_installed_distributions\u001b[49m()\n\u001b[1;32m      3\u001b[0m installed_packages_list \u001b[38;5;241m=\u001b[39m \u001b[38;5;28msorted\u001b[39m([\u001b[38;5;124m\"\u001b[39m\u001b[38;5;132;01m%s\u001b[39;00m\u001b[38;5;124m==\u001b[39m\u001b[38;5;132;01m%s\u001b[39;00m\u001b[38;5;124m\"\u001b[39m \u001b[38;5;241m%\u001b[39m (i\u001b[38;5;241m.\u001b[39mkey, i\u001b[38;5;241m.\u001b[39mversion)\n\u001b[1;32m      4\u001b[0m      \u001b[38;5;28;01mfor\u001b[39;00m i \u001b[38;5;129;01min\u001b[39;00m installed_packages])\n\u001b[1;32m      5\u001b[0m \u001b[38;5;28mprint\u001b[39m(installed_packages_list)\n",
      "\u001b[0;31mAttributeError\u001b[0m: module 'pip' has no attribute 'get_installed_distributions'"
     ]
    }
   ],
   "source": [
    "import pip\n",
    "installed_packages = pip.get_installed_distributions()\n",
    "installed_packages_list = sorted([\"%s==%s\" % (i.key, i.version)\n",
    "     for i in installed_packages])\n",
    "print(installed_packages_list)"
   ]
  },
  {
   "cell_type": "code",
   "execution_count": 4,
   "id": "f652e805-faac-48fb-ba8c-4bd89d2f0187",
   "metadata": {
    "editable": true,
    "slideshow": {
     "slide_type": ""
    },
    "tags": []
   },
   "outputs": [
    {
     "name": "stderr",
     "output_type": "stream",
     "text": [
      "UsageError: Line magic function `%watermark` not found.\n"
     ]
    }
   ],
   "source": [
    "%watermark -iversions"
   ]
  },
  {
   "cell_type": "code",
   "execution_count": 8,
   "id": "5777a65f-ad3e-49bd-95b9-fc41a4661314",
   "metadata": {
    "editable": true,
    "slideshow": {
     "slide_type": ""
    },
    "tags": [
     "parameters"
    ]
   },
   "outputs": [],
   "source": [
    "# This cell is tagged 'parameters'\n",
    "parameter = \"hi\""
   ]
  },
  {
   "cell_type": "code",
   "execution_count": 9,
   "id": "49f9248d-a74a-42b5-a7c1-ed139e7537dc",
   "metadata": {
    "editable": true,
    "slideshow": {
     "slide_type": ""
    },
    "tags": [
     "parameters"
    ]
   },
   "outputs": [],
   "source": [
    "def print_parameter(parameter):\n",
    "    print(parameter)"
   ]
  },
  {
   "cell_type": "code",
   "execution_count": 11,
   "id": "acbfe780-3a79-4698-a838-e9bcac8903d9",
   "metadata": {
    "editable": true,
    "slideshow": {
     "slide_type": ""
    },
    "tags": [
     "parameters"
    ]
   },
   "outputs": [
    {
     "ename": "TypeError",
     "evalue": "print_parameter() missing 1 required positional argument: 'parameter'",
     "output_type": "error",
     "traceback": [
      "\u001b[0;31m---------------------------------------------------------------------------\u001b[0m",
      "\u001b[0;31mTypeError\u001b[0m                                 Traceback (most recent call last)",
      "Cell \u001b[0;32mIn[11], line 1\u001b[0m\n\u001b[0;32m----> 1\u001b[0m \u001b[43mprint_parameter\u001b[49m\u001b[43m(\u001b[49m\u001b[43m)\u001b[49m\n",
      "\u001b[0;31mTypeError\u001b[0m: print_parameter() missing 1 required positional argument: 'parameter'"
     ]
    }
   ],
   "source": [
    "print_parameter()"
   ]
  },
  {
   "cell_type": "code",
   "execution_count": 13,
   "id": "15fa4cc3-5db2-4478-87a1-aa85e3131214",
   "metadata": {
    "editable": true,
    "slideshow": {
     "slide_type": ""
    },
    "tags": []
   },
   "outputs": [],
   "source": [
    "import mlflow"
   ]
  },
  {
   "cell_type": "code",
   "execution_count": null,
   "id": "1579bae9-e161-4530-9af4-59ac0ab47f79",
   "metadata": {
    "editable": true,
    "slideshow": {
     "slide_type": ""
    },
    "tags": []
   },
   "outputs": [],
   "source": [
    "def log_parameters():\n",
    "    mlflow.log_param(\"seed\", seed)\n",
    "\n",
    "def log_metrics():\n",
    "    mlflow.log_metric(\"rmse\", rmse)\n",
    "\n",
    "# log model\n",
    "mlflow.sklearn.log_model(lr, \"model\", registered_model_name=\"ElasticWineModel01\")\n",
    "\n",
    "def log_artifacts():\n",
    "    mlflow.log_artifact(temp_name, \"rmse_estimators_plots\")\n",
    "\n"
   ]
  }
 ],
 "metadata": {
  "kernelspec": {
   "display_name": "Python 3 (ipykernel)",
   "language": "python",
   "name": "python3"
  },
  "language_info": {
   "codemirror_mode": {
    "name": "ipython",
    "version": 3
   },
   "file_extension": ".py",
   "mimetype": "text/x-python",
   "name": "python",
   "nbconvert_exporter": "python",
   "pygments_lexer": "ipython3",
   "version": "3.12.0"
  }
 },
 "nbformat": 4,
 "nbformat_minor": 5
}
