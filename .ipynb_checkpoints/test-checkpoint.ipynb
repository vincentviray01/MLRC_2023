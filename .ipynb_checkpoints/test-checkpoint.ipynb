{
 "cells": [
  {
   "cell_type": "code",
   "execution_count": 6,
   "id": "62d1a995-dd41-4c43-8a05-d9a0354bf8c3",
   "metadata": {
    "editable": true,
    "slideshow": {
     "slide_type": ""
    },
    "tags": []
   },
   "outputs": [
    {
     "name": "stderr",
     "output_type": "stream",
     "text": [
      "Executing:   0%|                                                                                                                                                                           | 0/4 [00:00<?, ?cell/s]0.00s - Debugger warning: It seems that frozen modules are being used, which may\n",
      "0.00s - make the debugger miss breakpoints. Please pass -Xfrozen_modules=off\n",
      "0.00s - to python to disable frozen modules.\n",
      "0.00s - Note: Debugging will proceed. Set PYDEVD_DISABLE_FILE_VALIDATION=1 to disable this validation.\n",
      "Executing: 100%|███████████████████████████████████████████████████████████████████████████████████████████████████████████████████████████████████████████████████████████████████| 4/4 [00:00<00:00,  4.89cell/s]\n"
     ]
    },
    {
     "data": {
      "text/plain": [
       "{'cells': [{'cell_type': 'code',\n",
       "   'execution_count': 1,\n",
       "   'id': 'a660a9bf-733c-4920-bb64-5967b1dbbfe7',\n",
       "   'metadata': {'editable': True,\n",
       "    'slideshow': {'slide_type': ''},\n",
       "    'tags': [],\n",
       "    'papermill': {'exception': False,\n",
       "     'start_time': '2023-11-12T03:22:57.971801',\n",
       "     'end_time': '2023-11-12T03:22:58.097052',\n",
       "     'duration': 0.125251,\n",
       "     'status': 'completed'},\n",
       "    'execution': {'iopub.status.busy': '2023-11-12T03:22:57.974625Z',\n",
       "     'iopub.execute_input': '2023-11-12T03:22:57.974779Z',\n",
       "     'shell.execute_reply': '2023-11-12T03:22:58.095282Z',\n",
       "     'iopub.status.idle': '2023-11-12T03:22:58.095670Z'}},\n",
       "   'outputs': [],\n",
       "   'source': 'import papermill as pm'},\n",
       "  {'cell_type': 'code',\n",
       "   'execution_count': 2,\n",
       "   'id': '0c07d8fd-e20a-41a5-a722-4dc5ce6f8894',\n",
       "   'metadata': {'editable': True,\n",
       "    'slideshow': {'slide_type': ''},\n",
       "    'tags': ['parameters'],\n",
       "    'papermill': {'exception': False,\n",
       "     'start_time': '2023-11-12T03:22:58.098248',\n",
       "     'end_time': '2023-11-12T03:22:58.107551',\n",
       "     'duration': 0.009303,\n",
       "     'status': 'completed'},\n",
       "    'execution': {'iopub.status.busy': '2023-11-12T03:22:58.104022Z',\n",
       "     'iopub.execute_input': '2023-11-12T03:22:58.104158Z',\n",
       "     'iopub.status.idle': '2023-11-12T03:22:58.106232Z',\n",
       "     'shell.execute_reply': '2023-11-12T03:22:58.105917Z'}},\n",
       "   'outputs': [],\n",
       "   'source': '# tag: parameters\\nalpha=0\\nratio=0'},\n",
       "  {'id': '8a7102cc',\n",
       "   'cell_type': 'code',\n",
       "   'metadata': {'tags': ['injected-parameters'],\n",
       "    'papermill': {'exception': False,\n",
       "     'start_time': '2023-11-12T03:22:58.108390',\n",
       "     'end_time': '2023-11-12T03:22:58.112215',\n",
       "     'duration': 0.003825,\n",
       "     'status': 'completed'},\n",
       "    'execution': {'iopub.status.busy': '2023-11-12T03:22:58.109513Z',\n",
       "     'iopub.execute_input': '2023-11-12T03:22:58.109610Z',\n",
       "     'shell.execute_reply': '2023-11-12T03:22:58.110858Z',\n",
       "     'iopub.status.idle': '2023-11-12T03:22:58.111114Z'}},\n",
       "   'execution_count': 3,\n",
       "   'source': '# Parameters\\nalpha = 0.6\\nratio = 0.6\\n',\n",
       "   'outputs': []},\n",
       "  {'cell_type': 'code',\n",
       "   'execution_count': 4,\n",
       "   'id': '34e69605-c40e-4ac7-b157-8ec7e57a1da9',\n",
       "   'metadata': {'editable': True,\n",
       "    'slideshow': {'slide_type': ''},\n",
       "    'tags': [],\n",
       "    'papermill': {'exception': False,\n",
       "     'start_time': '2023-11-12T03:22:58.113013',\n",
       "     'end_time': '2023-11-12T03:22:58.117783',\n",
       "     'duration': 0.00477,\n",
       "     'status': 'completed'},\n",
       "    'execution': {'iopub.status.busy': '2023-11-12T03:22:58.114359Z',\n",
       "     'iopub.execute_input': '2023-11-12T03:22:58.114580Z',\n",
       "     'iopub.status.idle': '2023-11-12T03:22:58.116743Z',\n",
       "     'shell.execute_reply': '2023-11-12T03:22:58.116373Z'}},\n",
       "   'outputs': [{'output_type': 'stream',\n",
       "     'name': 'stdout',\n",
       "     'text': '0.6\\n0.6\\n'}],\n",
       "   'source': 'print(alpha)\\nprint(ratio)'}],\n",
       " 'metadata': {'kernelspec': {'display_name': 'Python 3 (ipykernel)',\n",
       "   'language': 'python',\n",
       "   'name': 'python3'},\n",
       "  'language_info': {'name': 'python',\n",
       "   'version': '3.12.0',\n",
       "   'mimetype': 'text/x-python',\n",
       "   'codemirror_mode': {'name': 'ipython', 'version': 3},\n",
       "   'pygments_lexer': 'ipython3',\n",
       "   'nbconvert_exporter': 'python',\n",
       "   'file_extension': '.py'},\n",
       "  'papermill': {'default_parameters': {},\n",
       "   'parameters': {'alpha': 0.6, 'ratio': 0.6},\n",
       "   'environment_variables': {},\n",
       "   'version': '2.5.0',\n",
       "   'input_path': 'run_training.ipynb',\n",
       "   'output_path': 'output.ipynb',\n",
       "   'start_time': '2023-11-12T03:22:57.415421',\n",
       "   'end_time': '2023-11-12T03:22:58.233509',\n",
       "   'duration': 0.818088,\n",
       "   'exception': None}},\n",
       " 'nbformat': 4,\n",
       " 'nbformat_minor': 5}"
      ]
     },
     "execution_count": 6,
     "metadata": {},
     "output_type": "execute_result"
    }
   ],
   "source": [
    "import papermill as pm\n",
    "\n",
    "input_ipynb = \"run_training.ipynb\"\n",
    "output_ipynb = \"output.ipynb\"\n",
    "pm.execute_notebook(input_ipynb, output_ipynb, parameters = dict(alpha=0.6, ratio=0.6))"
   ]
  },
  {
   "cell_type": "code",
   "execution_count": 14,
   "id": "d4eec23e-027c-461c-9dbc-9a6c1a6065d3",
   "metadata": {
    "editable": true,
    "slideshow": {
     "slide_type": ""
    },
    "tags": []
   },
   "outputs": [],
   "source": [
    "from utils import md5_dir"
   ]
  },
  {
   "cell_type": "code",
   "execution_count": 17,
   "id": "5594f5a5-4c17-45cb-b02d-4453e609e7d2",
   "metadata": {
    "editable": true,
    "slideshow": {
     "slide_type": ""
    },
    "tags": []
   },
   "outputs": [],
   "source": [
    "directory = \"data/MNIST-M/train/\""
   ]
  },
  {
   "cell_type": "code",
   "execution_count": 19,
   "id": "5d3182a1-5e24-4cb3-83e0-b46030a8ab63",
   "metadata": {
    "editable": true,
    "slideshow": {
     "slide_type": ""
    },
    "tags": []
   },
   "outputs": [
    {
     "ename": "AssertionError",
     "evalue": "",
     "output_type": "error",
     "traceback": [
      "\u001b[0;31m---------------------------------------------------------------------------\u001b[0m",
      "\u001b[0;31mAssertionError\u001b[0m                            Traceback (most recent call last)",
      "Cell \u001b[0;32mIn[19], line 1\u001b[0m\n\u001b[0;32m----> 1\u001b[0m \u001b[43mmd5_dir\u001b[49m\u001b[43m(\u001b[49m\u001b[43mdirectory\u001b[49m\u001b[43m)\u001b[49m\n",
      "File \u001b[0;32m~/projects/MLRC_2023/utils.py:31\u001b[0m, in \u001b[0;36mmd5_dir\u001b[0;34m(directory)\u001b[0m\n\u001b[1;32m     30\u001b[0m \u001b[38;5;28;01mdef\u001b[39;00m \u001b[38;5;21mmd5_dir\u001b[39m(directory: Union[\u001b[38;5;28mstr\u001b[39m, Path]) \u001b[38;5;241m-\u001b[39m\u001b[38;5;241m>\u001b[39m \u001b[38;5;28mstr\u001b[39m:\n\u001b[0;32m---> 31\u001b[0m     \u001b[38;5;28;01mreturn\u001b[39;00m \u001b[38;5;28mstr\u001b[39m(\u001b[43mmd5_update_from_dir\u001b[49m\u001b[43m(\u001b[49m\u001b[43mdirectory\u001b[49m\u001b[43m,\u001b[49m\u001b[43m \u001b[49m\u001b[43mhashlib\u001b[49m\u001b[38;5;241;43m.\u001b[39;49m\u001b[43mmd5\u001b[49m\u001b[43m(\u001b[49m\u001b[43m)\u001b[49m\u001b[43m)\u001b[49m\u001b[38;5;241m.\u001b[39mhexdigest())\n",
      "File \u001b[0;32m~/projects/MLRC_2023/utils.py:20\u001b[0m, in \u001b[0;36mmd5_update_from_dir\u001b[0;34m(directory, hash)\u001b[0m\n\u001b[1;32m     19\u001b[0m \u001b[38;5;28;01mdef\u001b[39;00m \u001b[38;5;21mmd5_update_from_dir\u001b[39m(directory: Union[\u001b[38;5;28mstr\u001b[39m, Path], \u001b[38;5;28mhash\u001b[39m: Hash) \u001b[38;5;241m-\u001b[39m\u001b[38;5;241m>\u001b[39m Hash:\n\u001b[0;32m---> 20\u001b[0m     \u001b[38;5;28;01massert\u001b[39;00m Path(directory)\u001b[38;5;241m.\u001b[39mis_dir()\n\u001b[1;32m     21\u001b[0m     \u001b[38;5;28;01mfor\u001b[39;00m path \u001b[38;5;129;01min\u001b[39;00m \u001b[38;5;28msorted\u001b[39m(Path(directory)\u001b[38;5;241m.\u001b[39miterdir(), key\u001b[38;5;241m=\u001b[39m\u001b[38;5;28;01mlambda\u001b[39;00m p: \u001b[38;5;28mstr\u001b[39m(p)\u001b[38;5;241m.\u001b[39mlower()):\n\u001b[1;32m     22\u001b[0m         \u001b[38;5;28mhash\u001b[39m\u001b[38;5;241m.\u001b[39mupdate(path\u001b[38;5;241m.\u001b[39mname\u001b[38;5;241m.\u001b[39mencode())\n",
      "\u001b[0;31mAssertionError\u001b[0m: "
     ]
    }
   ],
   "source": [
    "md5_dir(directory)"
   ]
  },
  {
   "cell_type": "code",
   "execution_count": null,
   "id": "c9f030b2-0722-49f8-b432-04ef784ccba7",
   "metadata": {
    "editable": true,
    "slideshow": {
     "slide_type": ""
    },
    "tags": []
   },
   "outputs": [],
   "source": []
  }
 ],
 "metadata": {
  "kernelspec": {
   "display_name": "Python 3 (ipykernel)",
   "language": "python",
   "name": "python3"
  },
  "language_info": {
   "codemirror_mode": {
    "name": "ipython",
    "version": 3
   },
   "file_extension": ".py",
   "mimetype": "text/x-python",
   "name": "python",
   "nbconvert_exporter": "python",
   "pygments_lexer": "ipython3",
   "version": "3.12.0"
  }
 },
 "nbformat": 4,
 "nbformat_minor": 5
}
