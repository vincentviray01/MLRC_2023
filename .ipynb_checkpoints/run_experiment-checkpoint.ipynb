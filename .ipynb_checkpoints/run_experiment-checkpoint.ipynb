{
 "cells": [
  {
   "cell_type": "code",
   "execution_count": 1,
   "id": "bff6edc4-aae4-4da8-8df3-d28d0a70ca60",
   "metadata": {},
   "outputs": [],
   "source": [
    "import papermill as pm\n"
   ]
  },
  {
   "cell_type": "code",
   "execution_count": null,
   "id": "0c07d8fd-e20a-41a5-a722-4dc5ce6f8894",
   "metadata": {},
   "outputs": [],
   "source": [
    "# Call Preprocessing Notebook\n",
    "\n",
    "# Call Training Notebook\n",
    "\n",
    "# Call Evaluation Notebook"
   ]
  }
 ],
 "metadata": {
  "kernelspec": {
   "display_name": "Python 3 (ipykernel)",
   "language": "python",
   "name": "python3"
  },
  "language_info": {
   "codemirror_mode": {
    "name": "ipython",
    "version": 3
   },
   "file_extension": ".py",
   "mimetype": "text/x-python",
   "name": "python",
   "nbconvert_exporter": "python",
   "pygments_lexer": "ipython3",
   "version": "3.12.0"
  }
 },
 "nbformat": 4,
 "nbformat_minor": 5
}
