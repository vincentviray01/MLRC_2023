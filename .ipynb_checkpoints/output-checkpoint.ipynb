{
 "cells": [
  {
   "cell_type": "code",
   "execution_count": 1,
   "id": "a660a9bf-733c-4920-bb64-5967b1dbbfe7",
   "metadata": {
    "editable": true,
    "execution": {
     "iopub.execute_input": "2023-11-12T02:58:52.091748Z",
     "iopub.status.busy": "2023-11-12T02:58:52.091521Z",
     "iopub.status.idle": "2023-11-12T02:58:52.188218Z",
     "shell.execute_reply": "2023-11-12T02:58:52.187754Z"
    },
    "papermill": {
     "duration": 0.100394,
     "end_time": "2023-11-12T02:58:52.189262",
     "exception": false,
     "start_time": "2023-11-12T02:58:52.088868",
     "status": "completed"
    },
    "slideshow": {
     "slide_type": ""
    },
    "tags": []
   },
   "outputs": [],
   "source": [
    "import papermill as pm"
   ]
  },
  {
   "cell_type": "code",
   "execution_count": 2,
   "id": "0c07d8fd-e20a-41a5-a722-4dc5ce6f8894",
   "metadata": {
    "editable": true,
    "execution": {
     "iopub.execute_input": "2023-11-12T02:58:52.193454Z",
     "iopub.status.busy": "2023-11-12T02:58:52.193319Z",
     "iopub.status.idle": "2023-11-12T02:58:52.195486Z",
     "shell.execute_reply": "2023-11-12T02:58:52.195173Z"
    },
    "papermill": {
     "duration": 0.004793,
     "end_time": "2023-11-12T02:58:52.196257",
     "exception": false,
     "start_time": "2023-11-12T02:58:52.191464",
     "status": "completed"
    },
    "slideshow": {
     "slide_type": ""
    },
    "tags": [
     "parameters"
    ]
   },
   "outputs": [],
   "source": [
    "# tag: parameters\n",
    "alpha=0.1\n",
    "ratio=0.1"
   ]
  },
  {
   "cell_type": "code",
   "execution_count": 3,
   "id": "205c0e6d",
   "metadata": {
    "execution": {
     "iopub.execute_input": "2023-11-12T02:58:52.199637Z",
     "iopub.status.busy": "2023-11-12T02:58:52.199396Z",
     "iopub.status.idle": "2023-11-12T02:58:52.201794Z",
     "shell.execute_reply": "2023-11-12T02:58:52.201297Z"
    },
    "papermill": {
     "duration": 0.00503,
     "end_time": "2023-11-12T02:58:52.202561",
     "exception": false,
     "start_time": "2023-11-12T02:58:52.197531",
     "status": "completed"
    },
    "tags": [
     "injected-parameters"
    ]
   },
   "outputs": [],
   "source": [
    "# Parameters\n",
    "alpha = 0.6\n",
    "ratio = 0.1\n"
   ]
  },
  {
   "cell_type": "code",
   "execution_count": 4,
   "id": "34e69605-c40e-4ac7-b157-8ec7e57a1da9",
   "metadata": {
    "editable": true,
    "execution": {
     "iopub.execute_input": "2023-11-12T02:58:52.205624Z",
     "iopub.status.busy": "2023-11-12T02:58:52.205496Z",
     "iopub.status.idle": "2023-11-12T02:58:52.207970Z",
     "shell.execute_reply": "2023-11-12T02:58:52.207638Z"
    },
    "papermill": {
     "duration": 0.004848,
     "end_time": "2023-11-12T02:58:52.208685",
     "exception": false,
     "start_time": "2023-11-12T02:58:52.203837",
     "status": "completed"
    },
    "slideshow": {
     "slide_type": ""
    },
    "tags": []
   },
   "outputs": [
    {
     "name": "stdout",
     "output_type": "stream",
     "text": [
      "0.6\n",
      "0.1\n"
     ]
    }
   ],
   "source": [
    "print(alpha)\n",
    "print(ratio)"
   ]
  }
 ],
 "metadata": {
  "kernelspec": {
   "display_name": "Python 3 (ipykernel)",
   "language": "python",
   "name": "python3"
  },
  "language_info": {
   "codemirror_mode": {
    "name": "ipython",
    "version": 3
   },
   "file_extension": ".py",
   "mimetype": "text/x-python",
   "name": "python",
   "nbconvert_exporter": "python",
   "pygments_lexer": "ipython3",
   "version": "3.12.0"
  },
  "papermill": {
   "default_parameters": {},
   "duration": 0.775199,
   "end_time": "2023-11-12T02:58:52.324694",
   "environment_variables": {},
   "exception": null,
   "input_path": "run_training.ipynb",
   "output_path": "output.ipynb",
   "parameters": {
    "alpha": 0.6,
    "ratio": 0.1
   },
   "start_time": "2023-11-12T02:58:51.549495",
   "version": "2.5.0"
  }
 },
 "nbformat": 4,
 "nbformat_minor": 5
}