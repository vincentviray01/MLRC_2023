{
 "cells": [
  {
   "cell_type": "code",
   "execution_count": 1,
   "id": "a660a9bf-733c-4920-bb64-5967b1dbbfe7",
   "metadata": {
    "editable": true,
    "execution": {
     "iopub.execute_input": "2023-11-12T05:21:32.841539Z",
     "iopub.status.busy": "2023-11-12T05:21:32.841290Z",
     "iopub.status.idle": "2023-11-12T05:21:32.937369Z",
     "shell.execute_reply": "2023-11-12T05:21:32.937063Z"
    },
    "papermill": {
     "duration": 0.099494,
     "end_time": "2023-11-12T05:21:32.938650",
     "exception": false,
     "start_time": "2023-11-12T05:21:32.839156",
     "status": "completed"
    },
    "slideshow": {
     "slide_type": ""
    },
    "tags": []
   },
   "outputs": [],
   "source": [
    "import papermill as pm"
   ]
  },
  {
   "cell_type": "code",
   "execution_count": 2,
   "id": "0c07d8fd-e20a-41a5-a722-4dc5ce6f8894",
   "metadata": {
    "editable": true,
    "execution": {
     "iopub.execute_input": "2023-11-12T05:21:32.942407Z",
     "iopub.status.busy": "2023-11-12T05:21:32.942278Z",
     "iopub.status.idle": "2023-11-12T05:21:32.944175Z",
     "shell.execute_reply": "2023-11-12T05:21:32.943958Z"
    },
    "papermill": {
     "duration": 0.004738,
     "end_time": "2023-11-12T05:21:32.945208",
     "exception": false,
     "start_time": "2023-11-12T05:21:32.940470",
     "status": "completed"
    },
    "slideshow": {
     "slide_type": ""
    },
    "tags": [
     "parameters"
    ]
   },
   "outputs": [],
   "source": [
    "# tag: parameters\n",
    "alpha=0\n",
    "ratio=0"
   ]
  },
  {
   "cell_type": "code",
   "execution_count": 3,
   "id": "34e69605-c40e-4ac7-b157-8ec7e57a1da9",
   "metadata": {
    "editable": true,
    "execution": {
     "iopub.execute_input": "2023-11-12T05:21:32.947948Z",
     "iopub.status.busy": "2023-11-12T05:21:32.947829Z",
     "iopub.status.idle": "2023-11-12T05:21:32.949875Z",
     "shell.execute_reply": "2023-11-12T05:21:32.949663Z"
    },
    "papermill": {
     "duration": 0.004844,
     "end_time": "2023-11-12T05:21:32.951160",
     "exception": false,
     "start_time": "2023-11-12T05:21:32.946316",
     "status": "completed"
    },
    "slideshow": {
     "slide_type": ""
    },
    "tags": []
   },
   "outputs": [
    {
     "name": "stdout",
     "output_type": "stream",
     "text": [
      "0\n",
      "0\n"
     ]
    }
   ],
   "source": [
    "print(alpha)\n",
    "print(ratio)"
   ]
  }
 ],
 "metadata": {
  "kernelspec": {
   "display_name": "Python 3 (ipykernel)",
   "language": "python",
   "name": "python3"
  },
  "language_info": {
   "codemirror_mode": {
    "name": "ipython",
    "version": 3
   },
   "file_extension": ".py",
   "mimetype": "text/x-python",
   "name": "python",
   "nbconvert_exporter": "python",
   "pygments_lexer": "ipython3",
   "version": "3.12.0"
  },
  "papermill": {
   "default_parameters": {},
   "duration": 0.791057,
   "end_time": "2023-11-12T05:21:33.068340",
   "environment_variables": {},
   "exception": null,
   "input_path": "run_training.ipynb",
   "output_path": "output/run_training_output.ipynb",
   "parameters": {},
   "start_time": "2023-11-12T05:21:32.277283",
   "version": "2.5.0"
  }
 },
 "nbformat": 4,
 "nbformat_minor": 5
}