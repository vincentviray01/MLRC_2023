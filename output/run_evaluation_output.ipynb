{
 "cells": [
  {
   "cell_type": "code",
   "execution_count": 1,
   "id": "a660a9bf-733c-4920-bb64-5967b1dbbfe7",
   "metadata": {
    "editable": true,
    "execution": {
     "iopub.execute_input": "2023-11-12T05:21:33.759418Z",
     "iopub.status.busy": "2023-11-12T05:21:33.759248Z",
     "iopub.status.idle": "2023-11-12T05:21:33.854743Z",
     "shell.execute_reply": "2023-11-12T05:21:33.854407Z"
    },
    "papermill": {
     "duration": 0.098635,
     "end_time": "2023-11-12T05:21:33.855785",
     "exception": false,
     "start_time": "2023-11-12T05:21:33.757150",
     "status": "completed"
    },
    "slideshow": {
     "slide_type": ""
    },
    "tags": []
   },
   "outputs": [],
   "source": [
    "import papermill as pm"
   ]
  },
  {
   "cell_type": "code",
   "execution_count": null,
   "id": "0c07d8fd-e20a-41a5-a722-4dc5ce6f8894",
   "metadata": {
    "papermill": {
     "duration": 0.00082,
     "end_time": "2023-11-12T05:21:33.857845",
     "exception": false,
     "start_time": "2023-11-12T05:21:33.857025",
     "status": "completed"
    },
    "tags": []
   },
   "outputs": [],
   "source": []
  }
 ],
 "metadata": {
  "kernelspec": {
   "display_name": "Python 3 (ipykernel)",
   "language": "python",
   "name": "python3"
  },
  "language_info": {
   "codemirror_mode": {
    "name": "ipython",
    "version": 3
   },
   "file_extension": ".py",
   "mimetype": "text/x-python",
   "name": "python",
   "nbconvert_exporter": "python",
   "pygments_lexer": "ipython3",
   "version": "3.12.0"
  },
  "papermill": {
   "default_parameters": {},
   "duration": 0.896458,
   "end_time": "2023-11-12T05:21:33.973135",
   "environment_variables": {},
   "exception": null,
   "input_path": "run_evaluation.ipynb",
   "output_path": "output/run_evaluation_output.ipynb",
   "parameters": {},
   "start_time": "2023-11-12T05:21:33.076677",
   "version": "2.5.0"
  }
 },
 "nbformat": 4,
 "nbformat_minor": 5
}