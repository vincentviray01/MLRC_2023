{
 "cells": [
  {
   "cell_type": "markdown",
   "id": "e5645f22",
   "metadata": {
    "tags": [
     "papermill-error-cell-tag"
    ]
   },
   "source": [
    "<span style=\"color:red; font-family:Helvetica Neue, Helvetica, Arial, sans-serif; font-size:2em;\">An Exception was encountered at '<a href=\"#papermill-error-cell\">In [4]</a>'.</span>"
   ]
  },
  {
   "cell_type": "code",
   "execution_count": 1,
   "id": "a660a9bf-733c-4920-bb64-5967b1dbbfe7",
   "metadata": {
    "editable": true,
    "execution": {
     "iopub.execute_input": "2023-11-12T06:12:10.228979Z",
     "iopub.status.busy": "2023-11-12T06:12:10.228792Z",
     "iopub.status.idle": "2023-11-12T06:12:10.560859Z",
     "shell.execute_reply": "2023-11-12T06:12:10.560442Z"
    },
    "papermill": {
     "duration": 0.336122,
     "end_time": "2023-11-12T06:12:10.562018",
     "exception": false,
     "start_time": "2023-11-12T06:12:10.225896",
     "status": "completed"
    },
    "slideshow": {
     "slide_type": ""
    },
    "tags": []
   },
   "outputs": [],
   "source": [
    "import papermill as pm\n",
    "import mlflow"
   ]
  },
  {
   "cell_type": "code",
   "execution_count": 2,
   "id": "2f223a40-a473-4bb4-a154-6852890912e6",
   "metadata": {
    "editable": true,
    "execution": {
     "iopub.execute_input": "2023-11-12T06:12:10.570134Z",
     "iopub.status.busy": "2023-11-12T06:12:10.569932Z",
     "iopub.status.idle": "2023-11-12T06:12:10.572204Z",
     "shell.execute_reply": "2023-11-12T06:12:10.571873Z"
    },
    "papermill": {
     "duration": 0.008897,
     "end_time": "2023-11-12T06:12:10.573304",
     "exception": false,
     "start_time": "2023-11-12T06:12:10.564407",
     "status": "completed"
    },
    "slideshow": {
     "slide_type": ""
    },
    "tags": [
     "parameters"
    ]
   },
   "outputs": [],
   "source": [
    "run_id = None"
   ]
  },
  {
   "cell_type": "code",
   "execution_count": 3,
   "id": "8ffa4f9f",
   "metadata": {
    "execution": {
     "iopub.execute_input": "2023-11-12T06:12:10.577733Z",
     "iopub.status.busy": "2023-11-12T06:12:10.577494Z",
     "iopub.status.idle": "2023-11-12T06:12:10.579411Z",
     "shell.execute_reply": "2023-11-12T06:12:10.579091Z"
    },
    "papermill": {
     "duration": 0.005244,
     "end_time": "2023-11-12T06:12:10.580300",
     "exception": false,
     "start_time": "2023-11-12T06:12:10.575056",
     "status": "completed"
    },
    "tags": [
     "injected-parameters"
    ]
   },
   "outputs": [],
   "source": [
    "# Parameters\n",
    "run_id = \"1668ce43c989411a900a18bcb8ab1766\"\n"
   ]
  },
  {
   "cell_type": "markdown",
   "id": "db3d8605",
   "metadata": {
    "tags": [
     "papermill-error-cell-tag"
    ]
   },
   "source": [
    "<span id=\"papermill-error-cell\" style=\"color:red; font-family:Helvetica Neue, Helvetica, Arial, sans-serif; font-size:2em;\">Execution using papermill encountered an exception here and stopped:</span>"
   ]
  },
  {
   "cell_type": "code",
   "execution_count": 4,
   "id": "79980a25-8833-49fa-9219-32e950f4fbcf",
   "metadata": {
    "editable": true,
    "execution": {
     "iopub.execute_input": "2023-11-12T06:12:10.583643Z",
     "iopub.status.busy": "2023-11-12T06:12:10.583411Z",
     "iopub.status.idle": "2023-11-12T06:12:10.687894Z",
     "shell.execute_reply": "2023-11-12T06:12:10.687333Z"
    },
    "papermill": {
     "duration": 0.107342,
     "end_time": "2023-11-12T06:12:10.688998",
     "exception": true,
     "start_time": "2023-11-12T06:12:10.581656",
     "status": "failed"
    },
    "slideshow": {
     "slide_type": ""
    },
    "tags": []
   },
   "outputs": [
    {
     "ename": "NameError",
     "evalue": "name 'f' is not defined",
     "output_type": "error",
     "traceback": [
      "\u001b[0;31m---------------------------------------------------------------------------\u001b[0m",
      "\u001b[0;31mNameError\u001b[0m                                 Traceback (most recent call last)",
      "Cell \u001b[0;32mIn[4], line 1\u001b[0m\n\u001b[0;32m----> 1\u001b[0m \u001b[43mf\u001b[49m\n",
      "\u001b[0;31mNameError\u001b[0m: name 'f' is not defined"
     ]
    }
   ],
   "source": [
    "\n",
    "f"
   ]
  },
  {
   "cell_type": "code",
   "execution_count": null,
   "id": "95671728-e0f6-41e7-b67b-6e67a21a7767",
   "metadata": {
    "editable": true,
    "papermill": {
     "duration": null,
     "end_time": null,
     "exception": null,
     "start_time": null,
     "status": "pending"
    },
    "slideshow": {
     "slide_type": ""
    },
    "tags": []
   },
   "outputs": [],
   "source": [
    "from utils import md5_dir\n",
    "\n",
    "directory = \"data/MNIST-M/train/\"\n",
    "\n",
    "train_set_hash = md5_dir(directory)"
   ]
  },
  {
   "cell_type": "code",
   "execution_count": null,
   "id": "0c07d8fd-e20a-41a5-a722-4dc5ce6f8894",
   "metadata": {
    "editable": true,
    "papermill": {
     "duration": null,
     "end_time": null,
     "exception": null,
     "start_time": null,
     "status": "pending"
    },
    "slideshow": {
     "slide_type": ""
    },
    "tags": []
   },
   "outputs": [],
   "source": [
    "with mlflow.start_run(run_id=run_id):\n",
    "    mlflow.log_param(\"random_param\", 3)\n",
    "    environment_path = \"environment.txt\"\n",
    "    mlflow.log_artifact(\"environment\", environment)"
   ]
  },
  {
   "cell_type": "code",
   "execution_count": null,
   "id": "ad59d2e2-3728-4217-97b5-042a84abab37",
   "metadata": {
    "editable": true,
    "papermill": {
     "duration": null,
     "end_time": null,
     "exception": null,
     "start_time": null,
     "status": "pending"
    },
    "slideshow": {
     "slide_type": ""
    },
    "tags": []
   },
   "outputs": [],
   "source": [
    "mlflow.log_dict"
   ]
  },
  {
   "cell_type": "code",
   "execution_count": null,
   "id": "f2e47a86-c66c-422e-830c-6e6ddf55a4dd",
   "metadata": {
    "editable": true,
    "papermill": {
     "duration": null,
     "end_time": null,
     "exception": null,
     "start_time": null,
     "status": "pending"
    },
    "slideshow": {
     "slide_type": ""
    },
    "tags": []
   },
   "outputs": [],
   "source": []
  }
 ],
 "metadata": {
  "kernelspec": {
   "display_name": "Python 3 (ipykernel)",
   "language": "python",
   "name": "python3"
  },
  "language_info": {
   "codemirror_mode": {
    "name": "ipython",
    "version": 3
   },
   "file_extension": ".py",
   "mimetype": "text/x-python",
   "name": "python",
   "nbconvert_exporter": "python",
   "pygments_lexer": "ipython3",
   "version": "3.12.0"
  },
  "papermill": {
   "default_parameters": {},
   "duration": 1.239864,
   "end_time": "2023-11-12T06:12:10.906959",
   "environment_variables": {},
   "exception": true,
   "input_path": "run_preprocessing.ipynb",
   "output_path": "output/run_preprocessing_output.ipynb",
   "parameters": {
    "run_id": "1668ce43c989411a900a18bcb8ab1766"
   },
   "start_time": "2023-11-12T06:12:09.667095",
   "version": "2.5.0"
  }
 },
 "nbformat": 4,
 "nbformat_minor": 5
}